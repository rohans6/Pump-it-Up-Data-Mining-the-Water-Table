{
 "cells": [
  {
   "cell_type": "code",
   "execution_count": 187,
   "metadata": {
    "id": "DGdWShHuiYAO"
   },
   "outputs": [],
   "source": [
    "# Importing all necessary libraries\n",
    "import pandas as pd\n",
    "import numpy as np\n",
    "import matplotlib.pyplot as plt\n",
    "import seaborn as sns"
   ]
  },
  {
   "cell_type": "code",
   "execution_count": 188,
   "metadata": {
    "id": "yJWsi9lQirjj"
   },
   "outputs": [],
   "source": [
    "# Loading files\n",
    "train_features=pd.read_csv(\"Trainingfeatures.csv\")\n",
    "train_labels=pd.read_csv(\"TrainingLabels.csv\")\n",
    "test=pd.read_csv(\"Testingfeatures.csv\")"
   ]
  },
  {
   "cell_type": "code",
   "execution_count": 189,
   "metadata": {
    "colab": {
     "base_uri": "https://localhost:8080/",
     "height": 411
    },
    "id": "suv6wZwgjGwl",
    "outputId": "f2cc2447-556d-470b-b2df-3447da2d86d4"
   },
   "outputs": [
    {
     "data": {
      "text/html": [
       "<div>\n",
       "<style scoped>\n",
       "    .dataframe tbody tr th:only-of-type {\n",
       "        vertical-align: middle;\n",
       "    }\n",
       "\n",
       "    .dataframe tbody tr th {\n",
       "        vertical-align: top;\n",
       "    }\n",
       "\n",
       "    .dataframe thead th {\n",
       "        text-align: right;\n",
       "    }\n",
       "</style>\n",
       "<table border=\"1\" class=\"dataframe\">\n",
       "  <thead>\n",
       "    <tr style=\"text-align: right;\">\n",
       "      <th></th>\n",
       "      <th>id</th>\n",
       "      <th>amount_tsh</th>\n",
       "      <th>date_recorded</th>\n",
       "      <th>funder</th>\n",
       "      <th>gps_height</th>\n",
       "      <th>installer</th>\n",
       "      <th>longitude</th>\n",
       "      <th>latitude</th>\n",
       "      <th>wpt_name</th>\n",
       "      <th>num_private</th>\n",
       "      <th>basin</th>\n",
       "      <th>subvillage</th>\n",
       "      <th>region</th>\n",
       "      <th>region_code</th>\n",
       "      <th>district_code</th>\n",
       "      <th>lga</th>\n",
       "      <th>ward</th>\n",
       "      <th>population</th>\n",
       "      <th>public_meeting</th>\n",
       "      <th>recorded_by</th>\n",
       "      <th>scheme_management</th>\n",
       "      <th>scheme_name</th>\n",
       "      <th>permit</th>\n",
       "      <th>construction_year</th>\n",
       "      <th>extraction_type</th>\n",
       "      <th>extraction_type_group</th>\n",
       "      <th>extraction_type_class</th>\n",
       "      <th>management</th>\n",
       "      <th>management_group</th>\n",
       "      <th>payment</th>\n",
       "      <th>payment_type</th>\n",
       "      <th>water_quality</th>\n",
       "      <th>quality_group</th>\n",
       "      <th>quantity</th>\n",
       "      <th>quantity_group</th>\n",
       "      <th>source</th>\n",
       "      <th>source_type</th>\n",
       "      <th>source_class</th>\n",
       "      <th>waterpoint_type</th>\n",
       "      <th>waterpoint_type_group</th>\n",
       "    </tr>\n",
       "  </thead>\n",
       "  <tbody>\n",
       "    <tr>\n",
       "      <th>0</th>\n",
       "      <td>69572</td>\n",
       "      <td>6000.0</td>\n",
       "      <td>2011-03-14</td>\n",
       "      <td>Roman</td>\n",
       "      <td>1390</td>\n",
       "      <td>Roman</td>\n",
       "      <td>34.938093</td>\n",
       "      <td>-9.856322</td>\n",
       "      <td>none</td>\n",
       "      <td>0</td>\n",
       "      <td>Lake Nyasa</td>\n",
       "      <td>Mnyusi B</td>\n",
       "      <td>Iringa</td>\n",
       "      <td>11</td>\n",
       "      <td>5</td>\n",
       "      <td>Ludewa</td>\n",
       "      <td>Mundindi</td>\n",
       "      <td>109</td>\n",
       "      <td>True</td>\n",
       "      <td>GeoData Consultants Ltd</td>\n",
       "      <td>VWC</td>\n",
       "      <td>Roman</td>\n",
       "      <td>False</td>\n",
       "      <td>1999</td>\n",
       "      <td>gravity</td>\n",
       "      <td>gravity</td>\n",
       "      <td>gravity</td>\n",
       "      <td>vwc</td>\n",
       "      <td>user-group</td>\n",
       "      <td>pay annually</td>\n",
       "      <td>annually</td>\n",
       "      <td>soft</td>\n",
       "      <td>good</td>\n",
       "      <td>enough</td>\n",
       "      <td>enough</td>\n",
       "      <td>spring</td>\n",
       "      <td>spring</td>\n",
       "      <td>groundwater</td>\n",
       "      <td>communal standpipe</td>\n",
       "      <td>communal standpipe</td>\n",
       "    </tr>\n",
       "    <tr>\n",
       "      <th>1</th>\n",
       "      <td>8776</td>\n",
       "      <td>0.0</td>\n",
       "      <td>2013-03-06</td>\n",
       "      <td>Grumeti</td>\n",
       "      <td>1399</td>\n",
       "      <td>GRUMETI</td>\n",
       "      <td>34.698766</td>\n",
       "      <td>-2.147466</td>\n",
       "      <td>Zahanati</td>\n",
       "      <td>0</td>\n",
       "      <td>Lake Victoria</td>\n",
       "      <td>Nyamara</td>\n",
       "      <td>Mara</td>\n",
       "      <td>20</td>\n",
       "      <td>2</td>\n",
       "      <td>Serengeti</td>\n",
       "      <td>Natta</td>\n",
       "      <td>280</td>\n",
       "      <td>NaN</td>\n",
       "      <td>GeoData Consultants Ltd</td>\n",
       "      <td>Other</td>\n",
       "      <td>NaN</td>\n",
       "      <td>True</td>\n",
       "      <td>2010</td>\n",
       "      <td>gravity</td>\n",
       "      <td>gravity</td>\n",
       "      <td>gravity</td>\n",
       "      <td>wug</td>\n",
       "      <td>user-group</td>\n",
       "      <td>never pay</td>\n",
       "      <td>never pay</td>\n",
       "      <td>soft</td>\n",
       "      <td>good</td>\n",
       "      <td>insufficient</td>\n",
       "      <td>insufficient</td>\n",
       "      <td>rainwater harvesting</td>\n",
       "      <td>rainwater harvesting</td>\n",
       "      <td>surface</td>\n",
       "      <td>communal standpipe</td>\n",
       "      <td>communal standpipe</td>\n",
       "    </tr>\n",
       "    <tr>\n",
       "      <th>2</th>\n",
       "      <td>34310</td>\n",
       "      <td>25.0</td>\n",
       "      <td>2013-02-25</td>\n",
       "      <td>Lottery Club</td>\n",
       "      <td>686</td>\n",
       "      <td>World vision</td>\n",
       "      <td>37.460664</td>\n",
       "      <td>-3.821329</td>\n",
       "      <td>Kwa Mahundi</td>\n",
       "      <td>0</td>\n",
       "      <td>Pangani</td>\n",
       "      <td>Majengo</td>\n",
       "      <td>Manyara</td>\n",
       "      <td>21</td>\n",
       "      <td>4</td>\n",
       "      <td>Simanjiro</td>\n",
       "      <td>Ngorika</td>\n",
       "      <td>250</td>\n",
       "      <td>True</td>\n",
       "      <td>GeoData Consultants Ltd</td>\n",
       "      <td>VWC</td>\n",
       "      <td>Nyumba ya mungu pipe scheme</td>\n",
       "      <td>True</td>\n",
       "      <td>2009</td>\n",
       "      <td>gravity</td>\n",
       "      <td>gravity</td>\n",
       "      <td>gravity</td>\n",
       "      <td>vwc</td>\n",
       "      <td>user-group</td>\n",
       "      <td>pay per bucket</td>\n",
       "      <td>per bucket</td>\n",
       "      <td>soft</td>\n",
       "      <td>good</td>\n",
       "      <td>enough</td>\n",
       "      <td>enough</td>\n",
       "      <td>dam</td>\n",
       "      <td>dam</td>\n",
       "      <td>surface</td>\n",
       "      <td>communal standpipe multiple</td>\n",
       "      <td>communal standpipe</td>\n",
       "    </tr>\n",
       "    <tr>\n",
       "      <th>3</th>\n",
       "      <td>67743</td>\n",
       "      <td>0.0</td>\n",
       "      <td>2013-01-28</td>\n",
       "      <td>Unicef</td>\n",
       "      <td>263</td>\n",
       "      <td>UNICEF</td>\n",
       "      <td>38.486161</td>\n",
       "      <td>-11.155298</td>\n",
       "      <td>Zahanati Ya Nanyumbu</td>\n",
       "      <td>0</td>\n",
       "      <td>Ruvuma / Southern Coast</td>\n",
       "      <td>Mahakamani</td>\n",
       "      <td>Mtwara</td>\n",
       "      <td>90</td>\n",
       "      <td>63</td>\n",
       "      <td>Nanyumbu</td>\n",
       "      <td>Nanyumbu</td>\n",
       "      <td>58</td>\n",
       "      <td>True</td>\n",
       "      <td>GeoData Consultants Ltd</td>\n",
       "      <td>VWC</td>\n",
       "      <td>NaN</td>\n",
       "      <td>True</td>\n",
       "      <td>1986</td>\n",
       "      <td>submersible</td>\n",
       "      <td>submersible</td>\n",
       "      <td>submersible</td>\n",
       "      <td>vwc</td>\n",
       "      <td>user-group</td>\n",
       "      <td>never pay</td>\n",
       "      <td>never pay</td>\n",
       "      <td>soft</td>\n",
       "      <td>good</td>\n",
       "      <td>dry</td>\n",
       "      <td>dry</td>\n",
       "      <td>machine dbh</td>\n",
       "      <td>borehole</td>\n",
       "      <td>groundwater</td>\n",
       "      <td>communal standpipe multiple</td>\n",
       "      <td>communal standpipe</td>\n",
       "    </tr>\n",
       "    <tr>\n",
       "      <th>4</th>\n",
       "      <td>19728</td>\n",
       "      <td>0.0</td>\n",
       "      <td>2011-07-13</td>\n",
       "      <td>Action In A</td>\n",
       "      <td>0</td>\n",
       "      <td>Artisan</td>\n",
       "      <td>31.130847</td>\n",
       "      <td>-1.825359</td>\n",
       "      <td>Shuleni</td>\n",
       "      <td>0</td>\n",
       "      <td>Lake Victoria</td>\n",
       "      <td>Kyanyamisa</td>\n",
       "      <td>Kagera</td>\n",
       "      <td>18</td>\n",
       "      <td>1</td>\n",
       "      <td>Karagwe</td>\n",
       "      <td>Nyakasimbi</td>\n",
       "      <td>0</td>\n",
       "      <td>True</td>\n",
       "      <td>GeoData Consultants Ltd</td>\n",
       "      <td>NaN</td>\n",
       "      <td>NaN</td>\n",
       "      <td>True</td>\n",
       "      <td>0</td>\n",
       "      <td>gravity</td>\n",
       "      <td>gravity</td>\n",
       "      <td>gravity</td>\n",
       "      <td>other</td>\n",
       "      <td>other</td>\n",
       "      <td>never pay</td>\n",
       "      <td>never pay</td>\n",
       "      <td>soft</td>\n",
       "      <td>good</td>\n",
       "      <td>seasonal</td>\n",
       "      <td>seasonal</td>\n",
       "      <td>rainwater harvesting</td>\n",
       "      <td>rainwater harvesting</td>\n",
       "      <td>surface</td>\n",
       "      <td>communal standpipe</td>\n",
       "      <td>communal standpipe</td>\n",
       "    </tr>\n",
       "  </tbody>\n",
       "</table>\n",
       "</div>"
      ],
      "text/plain": [
       "      id  amount_tsh  ...              waterpoint_type waterpoint_type_group\n",
       "0  69572      6000.0  ...           communal standpipe    communal standpipe\n",
       "1   8776         0.0  ...           communal standpipe    communal standpipe\n",
       "2  34310        25.0  ...  communal standpipe multiple    communal standpipe\n",
       "3  67743         0.0  ...  communal standpipe multiple    communal standpipe\n",
       "4  19728         0.0  ...           communal standpipe    communal standpipe\n",
       "\n",
       "[5 rows x 40 columns]"
      ]
     },
     "execution_count": 189,
     "metadata": {
      "tags": []
     },
     "output_type": "execute_result"
    }
   ],
   "source": [
    "train_features.head()"
   ]
  },
  {
   "cell_type": "code",
   "execution_count": 190,
   "metadata": {
    "colab": {
     "base_uri": "https://localhost:8080/",
     "height": 204
    },
    "id": "fZ4CmWaMjJDy",
    "outputId": "50295238-c757-4c12-db84-5242dad5572d"
   },
   "outputs": [
    {
     "data": {
      "text/html": [
       "<div>\n",
       "<style scoped>\n",
       "    .dataframe tbody tr th:only-of-type {\n",
       "        vertical-align: middle;\n",
       "    }\n",
       "\n",
       "    .dataframe tbody tr th {\n",
       "        vertical-align: top;\n",
       "    }\n",
       "\n",
       "    .dataframe thead th {\n",
       "        text-align: right;\n",
       "    }\n",
       "</style>\n",
       "<table border=\"1\" class=\"dataframe\">\n",
       "  <thead>\n",
       "    <tr style=\"text-align: right;\">\n",
       "      <th></th>\n",
       "      <th>id</th>\n",
       "      <th>status_group</th>\n",
       "    </tr>\n",
       "  </thead>\n",
       "  <tbody>\n",
       "    <tr>\n",
       "      <th>0</th>\n",
       "      <td>69572</td>\n",
       "      <td>functional</td>\n",
       "    </tr>\n",
       "    <tr>\n",
       "      <th>1</th>\n",
       "      <td>8776</td>\n",
       "      <td>functional</td>\n",
       "    </tr>\n",
       "    <tr>\n",
       "      <th>2</th>\n",
       "      <td>34310</td>\n",
       "      <td>functional</td>\n",
       "    </tr>\n",
       "    <tr>\n",
       "      <th>3</th>\n",
       "      <td>67743</td>\n",
       "      <td>non functional</td>\n",
       "    </tr>\n",
       "    <tr>\n",
       "      <th>4</th>\n",
       "      <td>19728</td>\n",
       "      <td>functional</td>\n",
       "    </tr>\n",
       "  </tbody>\n",
       "</table>\n",
       "</div>"
      ],
      "text/plain": [
       "      id    status_group\n",
       "0  69572      functional\n",
       "1   8776      functional\n",
       "2  34310      functional\n",
       "3  67743  non functional\n",
       "4  19728      functional"
      ]
     },
     "execution_count": 190,
     "metadata": {
      "tags": []
     },
     "output_type": "execute_result"
    }
   ],
   "source": [
    "train_labels.head()"
   ]
  },
  {
   "cell_type": "code",
   "execution_count": 191,
   "metadata": {
    "id": "i9-yFXbrjLAT"
   },
   "outputs": [],
   "source": [
    "train=pd.merge(train_features,train_labels,on='id')\n",
    "train_test=pd.concat([train,test])\n"
   ]
  },
  {
   "cell_type": "code",
   "execution_count": 192,
   "metadata": {
    "colab": {
     "base_uri": "https://localhost:8080/"
    },
    "id": "K_o8MVG7jTJW",
    "outputId": "32383ff3-3ffa-4118-db8b-51511fefd112"
   },
   "outputs": [
    {
     "name": "stdout",
     "output_type": "stream",
     "text": [
      "<class 'pandas.core.frame.DataFrame'>\n",
      "Int64Index: 74250 entries, 0 to 14849\n",
      "Data columns (total 41 columns):\n",
      " #   Column                 Non-Null Count  Dtype  \n",
      "---  ------                 --------------  -----  \n",
      " 0   id                     74250 non-null  int64  \n",
      " 1   amount_tsh             74250 non-null  float64\n",
      " 2   date_recorded          74250 non-null  object \n",
      " 3   funder                 69746 non-null  object \n",
      " 4   gps_height             74250 non-null  int64  \n",
      " 5   installer              69718 non-null  object \n",
      " 6   longitude              74250 non-null  float64\n",
      " 7   latitude               74250 non-null  float64\n",
      " 8   wpt_name               74250 non-null  object \n",
      " 9   num_private            74250 non-null  int64  \n",
      " 10  basin                  74250 non-null  object \n",
      " 11  subvillage             73780 non-null  object \n",
      " 12  region                 74250 non-null  object \n",
      " 13  region_code            74250 non-null  int64  \n",
      " 14  district_code          74250 non-null  int64  \n",
      " 15  lga                    74250 non-null  object \n",
      " 16  ward                   74250 non-null  object \n",
      " 17  population             74250 non-null  int64  \n",
      " 18  public_meeting         70095 non-null  object \n",
      " 19  recorded_by            74250 non-null  object \n",
      " 20  scheme_management      69404 non-null  object \n",
      " 21  scheme_name            38992 non-null  object \n",
      " 22  permit                 70457 non-null  object \n",
      " 23  construction_year      74250 non-null  int64  \n",
      " 24  extraction_type        74250 non-null  object \n",
      " 25  extraction_type_group  74250 non-null  object \n",
      " 26  extraction_type_class  74250 non-null  object \n",
      " 27  management             74250 non-null  object \n",
      " 28  management_group       74250 non-null  object \n",
      " 29  payment                74250 non-null  object \n",
      " 30  payment_type           74250 non-null  object \n",
      " 31  water_quality          74250 non-null  object \n",
      " 32  quality_group          74250 non-null  object \n",
      " 33  quantity               74250 non-null  object \n",
      " 34  quantity_group         74250 non-null  object \n",
      " 35  source                 74250 non-null  object \n",
      " 36  source_type            74250 non-null  object \n",
      " 37  source_class           74250 non-null  object \n",
      " 38  waterpoint_type        74250 non-null  object \n",
      " 39  waterpoint_type_group  74250 non-null  object \n",
      " 40  status_group           59400 non-null  object \n",
      "dtypes: float64(3), int64(7), object(31)\n",
      "memory usage: 23.8+ MB\n"
     ]
    }
   ],
   "source": [
    "train_test.info()"
   ]
  },
  {
   "cell_type": "code",
   "execution_count": 193,
   "metadata": {
    "colab": {
     "base_uri": "https://localhost:8080/",
     "height": 317
    },
    "id": "61nzj5zFjU9v",
    "outputId": "e3a5b8f0-492c-41f8-a736-4ea9457ade50"
   },
   "outputs": [
    {
     "data": {
      "text/html": [
       "<div>\n",
       "<style scoped>\n",
       "    .dataframe tbody tr th:only-of-type {\n",
       "        vertical-align: middle;\n",
       "    }\n",
       "\n",
       "    .dataframe tbody tr th {\n",
       "        vertical-align: top;\n",
       "    }\n",
       "\n",
       "    .dataframe thead th {\n",
       "        text-align: right;\n",
       "    }\n",
       "</style>\n",
       "<table border=\"1\" class=\"dataframe\">\n",
       "  <thead>\n",
       "    <tr style=\"text-align: right;\">\n",
       "      <th></th>\n",
       "      <th>id</th>\n",
       "      <th>amount_tsh</th>\n",
       "      <th>gps_height</th>\n",
       "      <th>longitude</th>\n",
       "      <th>latitude</th>\n",
       "      <th>num_private</th>\n",
       "      <th>region_code</th>\n",
       "      <th>district_code</th>\n",
       "      <th>population</th>\n",
       "      <th>construction_year</th>\n",
       "    </tr>\n",
       "  </thead>\n",
       "  <tbody>\n",
       "    <tr>\n",
       "      <th>count</th>\n",
       "      <td>74250.000000</td>\n",
       "      <td>74250.000000</td>\n",
       "      <td>74250.000000</td>\n",
       "      <td>74250.000000</td>\n",
       "      <td>7.425000e+04</td>\n",
       "      <td>74250.000000</td>\n",
       "      <td>74250.000000</td>\n",
       "      <td>74250.000000</td>\n",
       "      <td>74250.000000</td>\n",
       "      <td>74250.000000</td>\n",
       "    </tr>\n",
       "    <tr>\n",
       "      <th>mean</th>\n",
       "      <td>37124.500000</td>\n",
       "      <td>318.685704</td>\n",
       "      <td>665.667313</td>\n",
       "      <td>34.074262</td>\n",
       "      <td>-5.701771e+00</td>\n",
       "      <td>0.462330</td>\n",
       "      <td>15.265414</td>\n",
       "      <td>5.629077</td>\n",
       "      <td>180.750828</td>\n",
       "      <td>1298.463650</td>\n",
       "    </tr>\n",
       "    <tr>\n",
       "      <th>std</th>\n",
       "      <td>21434.273081</td>\n",
       "      <td>2906.762364</td>\n",
       "      <td>692.761033</td>\n",
       "      <td>6.572519</td>\n",
       "      <td>2.944969e+00</td>\n",
       "      <td>11.537879</td>\n",
       "      <td>17.508907</td>\n",
       "      <td>9.641636</td>\n",
       "      <td>471.086120</td>\n",
       "      <td>952.349375</td>\n",
       "    </tr>\n",
       "    <tr>\n",
       "      <th>min</th>\n",
       "      <td>0.000000</td>\n",
       "      <td>0.000000</td>\n",
       "      <td>-90.000000</td>\n",
       "      <td>0.000000</td>\n",
       "      <td>-1.164944e+01</td>\n",
       "      <td>0.000000</td>\n",
       "      <td>1.000000</td>\n",
       "      <td>0.000000</td>\n",
       "      <td>0.000000</td>\n",
       "      <td>0.000000</td>\n",
       "    </tr>\n",
       "    <tr>\n",
       "      <th>25%</th>\n",
       "      <td>18562.250000</td>\n",
       "      <td>0.000000</td>\n",
       "      <td>0.000000</td>\n",
       "      <td>33.086819</td>\n",
       "      <td>-8.525675e+00</td>\n",
       "      <td>0.000000</td>\n",
       "      <td>5.000000</td>\n",
       "      <td>2.000000</td>\n",
       "      <td>0.000000</td>\n",
       "      <td>0.000000</td>\n",
       "    </tr>\n",
       "    <tr>\n",
       "      <th>50%</th>\n",
       "      <td>37124.500000</td>\n",
       "      <td>0.000000</td>\n",
       "      <td>364.000000</td>\n",
       "      <td>34.907475</td>\n",
       "      <td>-5.026540e+00</td>\n",
       "      <td>0.000000</td>\n",
       "      <td>12.000000</td>\n",
       "      <td>3.000000</td>\n",
       "      <td>25.000000</td>\n",
       "      <td>1986.000000</td>\n",
       "    </tr>\n",
       "    <tr>\n",
       "      <th>75%</th>\n",
       "      <td>55686.750000</td>\n",
       "      <td>20.000000</td>\n",
       "      <td>1317.000000</td>\n",
       "      <td>37.181685</td>\n",
       "      <td>-3.325058e+00</td>\n",
       "      <td>0.000000</td>\n",
       "      <td>17.000000</td>\n",
       "      <td>5.000000</td>\n",
       "      <td>215.000000</td>\n",
       "      <td>2004.000000</td>\n",
       "    </tr>\n",
       "    <tr>\n",
       "      <th>max</th>\n",
       "      <td>74249.000000</td>\n",
       "      <td>350000.000000</td>\n",
       "      <td>2777.000000</td>\n",
       "      <td>40.345193</td>\n",
       "      <td>-2.000000e-08</td>\n",
       "      <td>1776.000000</td>\n",
       "      <td>99.000000</td>\n",
       "      <td>80.000000</td>\n",
       "      <td>30500.000000</td>\n",
       "      <td>2013.000000</td>\n",
       "    </tr>\n",
       "  </tbody>\n",
       "</table>\n",
       "</div>"
      ],
      "text/plain": [
       "                 id     amount_tsh  ...    population  construction_year\n",
       "count  74250.000000   74250.000000  ...  74250.000000       74250.000000\n",
       "mean   37124.500000     318.685704  ...    180.750828        1298.463650\n",
       "std    21434.273081    2906.762364  ...    471.086120         952.349375\n",
       "min        0.000000       0.000000  ...      0.000000           0.000000\n",
       "25%    18562.250000       0.000000  ...      0.000000           0.000000\n",
       "50%    37124.500000       0.000000  ...     25.000000        1986.000000\n",
       "75%    55686.750000      20.000000  ...    215.000000        2004.000000\n",
       "max    74249.000000  350000.000000  ...  30500.000000        2013.000000\n",
       "\n",
       "[8 rows x 10 columns]"
      ]
     },
     "execution_count": 193,
     "metadata": {
      "tags": []
     },
     "output_type": "execute_result"
    }
   ],
   "source": [
    "train_test.describe()"
   ]
  },
  {
   "cell_type": "markdown",
   "metadata": {
    "id": "IwxFTPKTlEti"
   },
   "source": [
    "***Strategy for EDA :-***\n",
    "1.   Explore our status_group column.\n",
    "2.   We have a lot of categorical features so first we will explore them.\n",
    "3.   There are few Numerical features which we will explore.\n",
    "\n"
   ]
  },
  {
   "cell_type": "code",
   "execution_count": 194,
   "metadata": {
    "id": "29mBU5ScpJEF"
   },
   "outputs": [],
   "source": [
    "#List containing columns to drop\n",
    "drop_cols=[]"
   ]
  },
  {
   "cell_type": "code",
   "execution_count": 195,
   "metadata": {
    "colab": {
     "base_uri": "https://localhost:8080/",
     "height": 385
    },
    "id": "y5SkPM36jXK2",
    "outputId": "51e14852-376a-42f6-fa4d-a02030571c7b"
   },
   "outputs": [
    {
     "name": "stderr",
     "output_type": "stream",
     "text": [
      "/usr/local/lib/python3.7/dist-packages/seaborn/_decorators.py:43: FutureWarning:\n",
      "\n",
      "Pass the following variable as a keyword arg: x. From version 0.12, the only valid positional argument will be `data`, and passing other arguments without an explicit keyword will result in an error or misinterpretation.\n",
      "\n"
     ]
    },
    {
     "data": {
      "text/plain": [
       "<matplotlib.axes._subplots.AxesSubplot at 0x7fb533984750>"
      ]
     },
     "execution_count": 195,
     "metadata": {
      "tags": []
     },
     "output_type": "execute_result"
    },
    {
     "data": {
      "image/png": "[encoded data removed]",
      "text/plain": [
       "<Figure size 432x288 with 1 Axes>"
      ]
     },
     "metadata": {
      "needs_background": "light",
      "tags": []
     },
     "output_type": "display_data"
    }
   ],
   "source": [
    "sns.countplot(train_test['status_group'])"
   ]
  },
  {
   "cell_type": "markdown",
   "metadata": {
    "id": "Qr3e1b4zl6hI"
   },
   "source": [
    "**We can see that there is class imbalance here.**"
   ]
  },
  {
   "cell_type": "markdown",
   "metadata": {
    "id": "hhHbq_a6mhE6"
   },
   "source": [
    "**Funder and Installer Columns**"
   ]
  },
  {
   "cell_type": "code",
   "execution_count": 196,
   "metadata": {
    "colab": {
     "base_uri": "https://localhost:8080/"
    },
    "id": "5HWURmPemmex",
    "outputId": "1421d3c5-48d7-4b5d-bf5b-b2ec96040bed"
   },
   "outputs": [
    {
     "name": "stdout",
     "output_type": "stream",
     "text": [
      "Value Counts of Funder Column\n",
      "Government Of Tanzania            11299\n",
      "Danida                             3907\n",
      "Hesawa                             2782\n",
      "Rwssp                              1703\n",
      "World Bank                         1701\n",
      "                                  ...  \n",
      "African Reflections Foundation        1\n",
      "Dar Es Salaam Round Table             1\n",
      "Saidi Halfani                         1\n",
      "Kanisa La Mitume                      1\n",
      "Holili Water Supply                   1\n",
      "Name: funder, Length: 2140, dtype: int64\n",
      " \n",
      "Value Counts of Installer Column\n",
      "DWE           21751\n",
      "Government     2282\n",
      "RWE            1498\n",
      "Commu          1347\n",
      "DANIDA         1305\n",
      "              ...  \n",
      "Okong'o           1\n",
      "Arrian            1\n",
      "LUNGWE            1\n",
      "Msig              1\n",
      "Muhindi           1\n",
      "Name: installer, Length: 2410, dtype: int64\n"
     ]
    }
   ],
   "source": [
    "print(\"Value Counts of Funder Column\")\n",
    "print(train_test['funder'].value_counts())\n",
    "print(\" \")\n",
    "print(\"Value Counts of Installer Column\")\n",
    "print(train_test['installer'].value_counts())"
   ]
  },
  {
   "cell_type": "code",
   "execution_count": 197,
   "metadata": {
    "colab": {
     "base_uri": "https://localhost:8080/"
    },
    "id": "FS11oVR2m4WA",
    "outputId": "8ab23029-4a94-413c-b166-9bc6ace263d2"
   },
   "outputs": [
    {
     "name": "stdout",
     "output_type": "stream",
     "text": [
      "No of NAN Values in Funder Column = 4504\n",
      " \n",
      "No of NAN Values in Installer Column = 4532\n",
      " \n",
      "No of rows where both Funder and Installer have NAN Values = 4439\n"
     ]
    }
   ],
   "source": [
    "# No of rows where both funder and installer have NAN values.\n",
    "print(\"No of NAN Values in Funder Column =\",train_test['funder'].isnull().sum())\n",
    "print(\" \")\n",
    "print(\"No of NAN Values in Installer Column =\",train_test['installer'].isnull().sum())\n",
    "print(\" \")\n",
    "a=len(train_test.loc[(train_test['funder'].isnull()) & (train_test['installer'].isnull())])\n",
    "print(\"No of rows where both Funder and Installer have NAN Values =\",a)\n"
   ]
  },
  {
   "cell_type": "markdown",
   "metadata": {
    "id": "A5UmKKWooCOF"
   },
   "source": [
    " From above we can see that rows where both funder both installer have NAN values are very high. So we can impute both this columns with same value. "
   ]
  },
  {
   "cell_type": "markdown",
   "metadata": {
    "id": "pyuso9Ysoakj"
   },
   "source": [
    "***Num Private***"
   ]
  },
  {
   "cell_type": "code",
   "execution_count": 198,
   "metadata": {
    "colab": {
     "base_uri": "https://localhost:8080/"
    },
    "id": "2kpl_wtZnE9C",
    "outputId": "d7d367b0-84ae-49d1-8863-03e18eb7a7df"
   },
   "outputs": [
    {
     "name": "stdout",
     "output_type": "stream",
     "text": [
      " Values Counts  of  num private :-\n",
      "0      73299\n",
      "1         94\n",
      "6         92\n",
      "5         60\n",
      "8         58\n",
      "       ...  \n",
      "30         1\n",
      "669        1\n",
      "668        1\n",
      "213        1\n",
      "62         1\n",
      "Name: num_private, Length: 68, dtype: int64\n"
     ]
    }
   ],
   "source": [
    "print(\" Values Counts  of  num private :-\")\n",
    "print(train_test['num_private'].value_counts())"
   ]
  },
  {
   "cell_type": "markdown",
   "metadata": {
    "id": "8wyuSCT-o5E_"
   },
   "source": [
    "**As no description is given for this dataset on driven data and since most values are zero we will drop it.**"
   ]
  },
  {
   "cell_type": "code",
   "execution_count": 199,
   "metadata": {
    "id": "bsvSHIaWopzf"
   },
   "outputs": [],
   "source": [
    "drop_cols.append(\"num_private\")"
   ]
  },
  {
   "cell_type": "markdown",
   "metadata": {
    "id": "nB2SwkW0pRVe"
   },
   "source": [
    "***Basin and Wpt_name***"
   ]
  },
  {
   "cell_type": "code",
   "execution_count": 200,
   "metadata": {
    "colab": {
     "base_uri": "https://localhost:8080/"
    },
    "id": "DbtBeAFipQgi",
    "outputId": "cf3f5805-6242-48f2-8dc7-be325b787847"
   },
   "outputs": [
    {
     "name": "stdout",
     "output_type": "stream",
     "text": [
      " Value Counts of Basin\n",
      "Lake Victoria              12871\n",
      "Pangani                    11143\n",
      "Rufiji                      9987\n",
      "Internal                    9642\n",
      "Lake Tanganyika             8052\n",
      "Wami / Ruvu                 7577\n",
      "Lake Nyasa                  6332\n",
      "Ruvuma / Southern Coast     5587\n",
      "Lake Rukwa                  3059\n",
      "Name: basin, dtype: int64\n"
     ]
    }
   ],
   "source": [
    "print(\" Value Counts of Basin\")\n",
    "print(train_test['basin'].value_counts())"
   ]
  },
  {
   "cell_type": "code",
   "execution_count": 201,
   "metadata": {
    "colab": {
     "base_uri": "https://localhost:8080/",
     "height": 207
    },
    "id": "OwapcKe-p3Ai",
    "outputId": "409c8e89-3d53-4eca-9442-7ae0d270b7ad"
   },
   "outputs": [
    {
     "data": {
      "text/html": [
       "<div>\n",
       "<style scoped>\n",
       "    .dataframe tbody tr th:only-of-type {\n",
       "        vertical-align: middle;\n",
       "    }\n",
       "\n",
       "    .dataframe tbody tr th {\n",
       "        vertical-align: top;\n",
       "    }\n",
       "\n",
       "    .dataframe thead th {\n",
       "        text-align: right;\n",
       "    }\n",
       "</style>\n",
       "<table border=\"1\" class=\"dataframe\">\n",
       "  <thead>\n",
       "    <tr style=\"text-align: right;\">\n",
       "      <th>basin</th>\n",
       "      <th>Internal</th>\n",
       "      <th>Lake Nyasa</th>\n",
       "      <th>Lake Rukwa</th>\n",
       "      <th>Lake Tanganyika</th>\n",
       "      <th>Lake Victoria</th>\n",
       "      <th>Pangani</th>\n",
       "      <th>Rufiji</th>\n",
       "      <th>Ruvuma / Southern Coast</th>\n",
       "      <th>Wami / Ruvu</th>\n",
       "    </tr>\n",
       "    <tr>\n",
       "      <th>status_group</th>\n",
       "      <th></th>\n",
       "      <th></th>\n",
       "      <th></th>\n",
       "      <th></th>\n",
       "      <th></th>\n",
       "      <th></th>\n",
       "      <th></th>\n",
       "      <th></th>\n",
       "      <th></th>\n",
       "    </tr>\n",
       "  </thead>\n",
       "  <tbody>\n",
       "    <tr>\n",
       "      <th>functional</th>\n",
       "      <td>4482</td>\n",
       "      <td>3324</td>\n",
       "      <td>1000</td>\n",
       "      <td>3107</td>\n",
       "      <td>5100</td>\n",
       "      <td>5372</td>\n",
       "      <td>5068</td>\n",
       "      <td>1670</td>\n",
       "      <td>3136</td>\n",
       "    </tr>\n",
       "    <tr>\n",
       "      <th>functional needs repair</th>\n",
       "      <td>557</td>\n",
       "      <td>250</td>\n",
       "      <td>270</td>\n",
       "      <td>742</td>\n",
       "      <td>989</td>\n",
       "      <td>477</td>\n",
       "      <td>437</td>\n",
       "      <td>326</td>\n",
       "      <td>269</td>\n",
       "    </tr>\n",
       "    <tr>\n",
       "      <th>non functional</th>\n",
       "      <td>2746</td>\n",
       "      <td>1511</td>\n",
       "      <td>1184</td>\n",
       "      <td>2583</td>\n",
       "      <td>4159</td>\n",
       "      <td>3091</td>\n",
       "      <td>2471</td>\n",
       "      <td>2497</td>\n",
       "      <td>2582</td>\n",
       "    </tr>\n",
       "  </tbody>\n",
       "</table>\n",
       "</div>"
      ],
      "text/plain": [
       "basin                    Internal  ...  Wami / Ruvu\n",
       "status_group                       ...             \n",
       "functional                   4482  ...         3136\n",
       "functional needs repair       557  ...          269\n",
       "non functional               2746  ...         2582\n",
       "\n",
       "[3 rows x 9 columns]"
      ]
     },
     "execution_count": 201,
     "metadata": {
      "tags": []
     },
     "output_type": "execute_result"
    }
   ],
   "source": [
    "pd.crosstab(train_test['status_group'],train_test['basin'])"
   ]
  },
  {
   "cell_type": "markdown",
   "metadata": {
    "id": "ZPgE-PbnqOF2"
   },
   "source": [
    "**We can see their is some correlation between basin and status_group**"
   ]
  },
  {
   "cell_type": "code",
   "execution_count": 202,
   "metadata": {
    "colab": {
     "base_uri": "https://localhost:8080/"
    },
    "id": "pKmE1_kHp-lx",
    "outputId": "59a3360e-9c22-4b36-d4bd-a6c17ca7eb07"
   },
   "outputs": [
    {
     "name": "stdout",
     "output_type": "stream",
     "text": [
      "Value Counts of wpt_name\n",
      "none                   4440\n",
      "Shuleni                2183\n",
      "Zahanati               1034\n",
      "Msikitini               647\n",
      "Kanisani                390\n",
      "                       ... \n",
      "Kandege                   1\n",
      "Kwa Yosia                 1\n",
      "Kwa Karimu Ngonyani       1\n",
      "Mwita Nyakarare           1\n",
      "Kwa Maturike              1\n",
      "Name: wpt_name, Length: 45684, dtype: int64\n"
     ]
    }
   ],
   "source": [
    "print(\"Value Counts of wpt_name\")\n",
    "print(train_test['wpt_name'].value_counts())"
   ]
  },
  {
   "cell_type": "code",
   "execution_count": 203,
   "metadata": {
    "colab": {
     "base_uri": "https://localhost:8080/",
     "height": 450
    },
    "id": "iu5-yQqnqeOa",
    "outputId": "4f4a696e-6967-4d94-c7ad-c545667dcd0f"
   },
   "outputs": [
    {
     "data": {
      "text/html": [
       "<div>\n",
       "<style scoped>\n",
       "    .dataframe tbody tr th:only-of-type {\n",
       "        vertical-align: middle;\n",
       "    }\n",
       "\n",
       "    .dataframe tbody tr th {\n",
       "        vertical-align: top;\n",
       "    }\n",
       "\n",
       "    .dataframe thead th {\n",
       "        text-align: right;\n",
       "    }\n",
       "</style>\n",
       "<table border=\"1\" class=\"dataframe\">\n",
       "  <thead>\n",
       "    <tr style=\"text-align: right;\">\n",
       "      <th>status_group</th>\n",
       "      <th>functional</th>\n",
       "      <th>functional needs repair</th>\n",
       "      <th>non functional</th>\n",
       "    </tr>\n",
       "    <tr>\n",
       "      <th>wpt_name</th>\n",
       "      <th></th>\n",
       "      <th></th>\n",
       "      <th></th>\n",
       "    </tr>\n",
       "  </thead>\n",
       "  <tbody>\n",
       "    <tr>\n",
       "      <th>24</th>\n",
       "      <td>0</td>\n",
       "      <td>0</td>\n",
       "      <td>1</td>\n",
       "    </tr>\n",
       "    <tr>\n",
       "      <th>A Kulwa</th>\n",
       "      <td>0</td>\n",
       "      <td>0</td>\n",
       "      <td>1</td>\n",
       "    </tr>\n",
       "    <tr>\n",
       "      <th>A Saidi</th>\n",
       "      <td>1</td>\n",
       "      <td>0</td>\n",
       "      <td>0</td>\n",
       "    </tr>\n",
       "    <tr>\n",
       "      <th>Abass</th>\n",
       "      <td>1</td>\n",
       "      <td>0</td>\n",
       "      <td>0</td>\n",
       "    </tr>\n",
       "    <tr>\n",
       "      <th>Abbas</th>\n",
       "      <td>1</td>\n",
       "      <td>0</td>\n",
       "      <td>0</td>\n",
       "    </tr>\n",
       "    <tr>\n",
       "      <th>...</th>\n",
       "      <td>...</td>\n",
       "      <td>...</td>\n",
       "      <td>...</td>\n",
       "    </tr>\n",
       "    <tr>\n",
       "      <th>Zungu</th>\n",
       "      <td>1</td>\n",
       "      <td>0</td>\n",
       "      <td>0</td>\n",
       "    </tr>\n",
       "    <tr>\n",
       "      <th>Zunguni</th>\n",
       "      <td>0</td>\n",
       "      <td>0</td>\n",
       "      <td>1</td>\n",
       "    </tr>\n",
       "    <tr>\n",
       "      <th>Zunzuli A Shuleni</th>\n",
       "      <td>0</td>\n",
       "      <td>0</td>\n",
       "      <td>1</td>\n",
       "    </tr>\n",
       "    <tr>\n",
       "      <th>Zuwena Kindo</th>\n",
       "      <td>0</td>\n",
       "      <td>0</td>\n",
       "      <td>1</td>\n",
       "    </tr>\n",
       "    <tr>\n",
       "      <th>none</th>\n",
       "      <td>2630</td>\n",
       "      <td>76</td>\n",
       "      <td>857</td>\n",
       "    </tr>\n",
       "  </tbody>\n",
       "</table>\n",
       "<p>37400 rows × 3 columns</p>\n",
       "</div>"
      ],
      "text/plain": [
       "status_group       functional  functional needs repair  non functional\n",
       "wpt_name                                                              \n",
       "24                          0                        0               1\n",
       "A Kulwa                     0                        0               1\n",
       "A Saidi                     1                        0               0\n",
       "Abass                       1                        0               0\n",
       "Abbas                       1                        0               0\n",
       "...                       ...                      ...             ...\n",
       "Zungu                       1                        0               0\n",
       "Zunguni                     0                        0               1\n",
       "Zunzuli A Shuleni           0                        0               1\n",
       "Zuwena Kindo                0                        0               1\n",
       "none                     2630                       76             857\n",
       "\n",
       "[37400 rows x 3 columns]"
      ]
     },
     "execution_count": 203,
     "metadata": {
      "tags": []
     },
     "output_type": "execute_result"
    }
   ],
   "source": [
    "pd.crosstab(train_test['wpt_name'],train_test['status_group'])"
   ]
  },
  {
   "cell_type": "code",
   "execution_count": 204,
   "metadata": {
    "id": "-8F7LfC2MRxP"
   },
   "outputs": [],
   "source": [
    "drop_cols.append(\"wpt_name\")"
   ]
  },
  {
   "cell_type": "markdown",
   "metadata": {
    "id": "jN7_ipGxqs8C"
   },
   "source": [
    "**From above we can see there is no correlation between wpt_name and status_group and also wpt_name has lot of values. Also it logically makes sense since the name of water-point will not have any impact on whether that water-point is functional or needs repair or non functional**"
   ]
  },
  {
   "cell_type": "markdown",
   "metadata": {
    "id": "PrFNEgkLrWu5"
   },
   "source": [
    "**Geographical Locations Columns**"
   ]
  },
  {
   "cell_type": "code",
   "execution_count": 205,
   "metadata": {
    "colab": {
     "base_uri": "https://localhost:8080/"
    },
    "id": "MJmrV9Kvqmz3",
    "outputId": "1e8ff194-9c46-4c2b-85dc-aeae0bd3fcd8"
   },
   "outputs": [
    {
     "name": "stdout",
     "output_type": "stream",
     "text": [
      " Value Counts of Region and Region code\n",
      " \n",
      "Iringa           6599\n",
      "Shinyanga        6293\n",
      "Mbeya            5758\n",
      "Kilimanjaro      5494\n",
      "Morogoro         5038\n",
      "Kagera           4174\n",
      "Arusha           4111\n",
      "Mwanza           3897\n",
      "Kigoma           3533\n",
      "Pwani            3331\n",
      "Ruvuma           3306\n",
      "Tanga            3186\n",
      "Dodoma           2779\n",
      "Singida          2536\n",
      "Tabora           2466\n",
      "Mara             2451\n",
      "Rukwa            2242\n",
      "Mtwara           2144\n",
      "Manyara          1972\n",
      "Lindi            1920\n",
      "Dar es Salaam    1020\n",
      "Name: region, dtype: int64\n",
      " \n",
      "11    6608\n",
      "17    6334\n",
      "12    5759\n",
      "3     5494\n",
      "5     5079\n",
      "18    4183\n",
      "19    3824\n",
      "2     3709\n",
      "16    3533\n",
      "10    3306\n",
      "4     3145\n",
      "1     2779\n",
      "13    2536\n",
      "14    2488\n",
      "20    2451\n",
      "15    2242\n",
      "6     2032\n",
      "21    1972\n",
      "80    1536\n",
      "60    1298\n",
      "90    1133\n",
      "7     1020\n",
      "99     512\n",
      "9      499\n",
      "24     402\n",
      "8      375\n",
      "40       1\n",
      "Name: region_code, dtype: int64\n"
     ]
    }
   ],
   "source": [
    "print(\" Value Counts of Region and Region code\")\n",
    "print(\" \")\n",
    "print(train_test['region'].value_counts())\n",
    "print(\" \")\n",
    "print(train_test['region_code'].value_counts())"
   ]
  },
  {
   "cell_type": "code",
   "execution_count": 206,
   "metadata": {
    "colab": {
     "base_uri": "https://localhost:8080/"
    },
    "id": "RfEkHecorxLT",
    "outputId": "658d76d9-fc3c-433a-f7b2-e0f350c7bd5f"
   },
   "outputs": [
    {
     "name": "stdout",
     "output_type": "stream",
     "text": [
      "Arusha\n",
      "2     3709\n",
      "24     402\n",
      "Name: region_code, dtype: int64\n",
      " \n",
      "Dar es Salaam\n",
      "7    1020\n",
      "Name: region_code, dtype: int64\n",
      " \n",
      "Dodoma\n",
      "1    2779\n",
      "Name: region_code, dtype: int64\n",
      " \n",
      "Iringa\n",
      "11    6599\n",
      "Name: region_code, dtype: int64\n",
      " \n",
      "Kagera\n",
      "18    4174\n",
      "Name: region_code, dtype: int64\n",
      " \n",
      "Kigoma\n",
      "16    3533\n",
      "Name: region_code, dtype: int64\n",
      " \n",
      "Kilimanjaro\n",
      "3    5494\n",
      "Name: region_code, dtype: int64\n",
      " \n",
      "Lindi\n",
      "80    1536\n",
      "8      375\n",
      "18       9\n",
      "Name: region_code, dtype: int64\n",
      " \n",
      "Manyara\n",
      "21    1972\n",
      "Name: region_code, dtype: int64\n",
      " \n",
      "Mara\n",
      "20    2451\n",
      "Name: region_code, dtype: int64\n",
      " \n",
      "Mbeya\n",
      "12    5758\n",
      "Name: region_code, dtype: int64\n",
      " \n",
      "Morogoro\n",
      "5    5038\n",
      "Name: region_code, dtype: int64\n",
      " \n",
      "Mtwara\n",
      "90    1133\n",
      "99     512\n",
      "9      499\n",
      "Name: region_code, dtype: int64\n",
      " \n",
      "Mwanza\n",
      "19    3824\n",
      "17      72\n",
      "12       1\n",
      "Name: region_code, dtype: int64\n",
      " \n",
      "Pwani\n",
      "6     2032\n",
      "60    1298\n",
      "40       1\n",
      "Name: region_code, dtype: int64\n",
      " \n",
      "Rukwa\n",
      "15    2242\n",
      "Name: region_code, dtype: int64\n",
      " \n",
      "Ruvuma\n",
      "10    3306\n",
      "Name: region_code, dtype: int64\n",
      " \n",
      "Shinyanga\n",
      "17    6262\n",
      "14      22\n",
      "11       9\n",
      "Name: region_code, dtype: int64\n",
      " \n",
      "Singida\n",
      "13    2536\n",
      "Name: region_code, dtype: int64\n",
      " \n",
      "Tabora\n",
      "14    2466\n",
      "Name: region_code, dtype: int64\n",
      " \n",
      "Tanga\n",
      "4    3145\n",
      "5      41\n",
      "Name: region_code, dtype: int64\n",
      " \n"
     ]
    }
   ],
   "source": [
    "unique_regions=list(np.unique(train_test['region']))\n",
    "for region in unique_regions:\n",
    "  print(region)\n",
    "  print(train_test[train_test['region']==region]['region_code'].value_counts())\n",
    "  print(\" \")\n"
   ]
  },
  {
   "cell_type": "markdown",
   "metadata": {
    "id": "O5-HjZvktSXh"
   },
   "source": [
    "**From above we can see region and region_codes are highly correlated so we need to drop one of them. Also  for many regions have directly unique region_code and for some there are more then 1 region codes so we can drop region and keep region_codes because there are some region which have more then 1 region_code and if we drop region_code these knowledge will vanish so we will drop region.**"
   ]
  },
  {
   "cell_type": "code",
   "execution_count": 207,
   "metadata": {
    "id": "nSi9H4SrsBS4"
   },
   "outputs": [],
   "source": [
    "drop_cols.append(\"region\")"
   ]
  },
  {
   "cell_type": "code",
   "execution_count": 208,
   "metadata": {
    "colab": {
     "base_uri": "https://localhost:8080/"
    },
    "id": "XenesknYuY9e",
    "outputId": "fb4af6bc-f2e8-4527-b34c-2471422dcb64"
   },
   "outputs": [
    {
     "name": "stdout",
     "output_type": "stream",
     "text": [
      "Unique Values of SubVillage and district codes\n",
      " \n",
      "Shuleni      646\n",
      "Majengo      631\n",
      "Madukani     629\n",
      "Kati         467\n",
      "Mtakuja      322\n",
      "            ... \n",
      "Ibogoma        1\n",
      "Cikolola       1\n",
      "Ruyogoro       1\n",
      "Mwakasema      1\n",
      "Komtongo       1\n",
      "Name: subvillage, Length: 21425, dtype: int64\n",
      "1     15299\n",
      "2     13929\n",
      "3     12521\n",
      "4     11253\n",
      "5      5428\n",
      "6      5108\n",
      "7      4166\n",
      "8      1282\n",
      "30     1256\n",
      "33     1063\n",
      "53      921\n",
      "43      653\n",
      "13      496\n",
      "23      360\n",
      "63      264\n",
      "62      127\n",
      "60       76\n",
      "0        27\n",
      "80       13\n",
      "67        8\n",
      "Name: district_code, dtype: int64\n"
     ]
    }
   ],
   "source": [
    "print(\"Unique Values of SubVillage and district codes\")\n",
    "print(\" \")\n",
    "print(train_test['subvillage'].value_counts())\n",
    "print(train_test['district_code'].value_counts())"
   ]
  },
  {
   "cell_type": "code",
   "execution_count": 209,
   "metadata": {
    "colab": {
     "base_uri": "https://localhost:8080/",
     "height": 450
    },
    "id": "Aevh2yOiwJ2N",
    "outputId": "f69b4d28-18d1-4e73-bfd4-410f7641797a"
   },
   "outputs": [
    {
     "data": {
      "text/html": [
       "<div>\n",
       "<style scoped>\n",
       "    .dataframe tbody tr th:only-of-type {\n",
       "        vertical-align: middle;\n",
       "    }\n",
       "\n",
       "    .dataframe tbody tr th {\n",
       "        vertical-align: top;\n",
       "    }\n",
       "\n",
       "    .dataframe thead th {\n",
       "        text-align: right;\n",
       "    }\n",
       "</style>\n",
       "<table border=\"1\" class=\"dataframe\">\n",
       "  <thead>\n",
       "    <tr style=\"text-align: right;\">\n",
       "      <th>status_group</th>\n",
       "      <th>functional</th>\n",
       "      <th>functional needs repair</th>\n",
       "      <th>non functional</th>\n",
       "    </tr>\n",
       "    <tr>\n",
       "      <th>subvillage</th>\n",
       "      <th></th>\n",
       "      <th></th>\n",
       "      <th></th>\n",
       "    </tr>\n",
       "  </thead>\n",
       "  <tbody>\n",
       "    <tr>\n",
       "      <th>##</th>\n",
       "      <td>1</td>\n",
       "      <td>0</td>\n",
       "      <td>0</td>\n",
       "    </tr>\n",
       "    <tr>\n",
       "      <th>'A' Kati</th>\n",
       "      <td>0</td>\n",
       "      <td>0</td>\n",
       "      <td>1</td>\n",
       "    </tr>\n",
       "    <tr>\n",
       "      <th>1</th>\n",
       "      <td>52</td>\n",
       "      <td>8</td>\n",
       "      <td>72</td>\n",
       "    </tr>\n",
       "    <tr>\n",
       "      <th>14Kambalage</th>\n",
       "      <td>5</td>\n",
       "      <td>0</td>\n",
       "      <td>0</td>\n",
       "    </tr>\n",
       "    <tr>\n",
       "      <th>18</th>\n",
       "      <td>0</td>\n",
       "      <td>0</td>\n",
       "      <td>1</td>\n",
       "    </tr>\n",
       "    <tr>\n",
       "      <th>...</th>\n",
       "      <td>...</td>\n",
       "      <td>...</td>\n",
       "      <td>...</td>\n",
       "    </tr>\n",
       "    <tr>\n",
       "      <th>Zumbawanu Shuleni</th>\n",
       "      <td>1</td>\n",
       "      <td>0</td>\n",
       "      <td>0</td>\n",
       "    </tr>\n",
       "    <tr>\n",
       "      <th>Zunga</th>\n",
       "      <td>1</td>\n",
       "      <td>0</td>\n",
       "      <td>0</td>\n",
       "    </tr>\n",
       "    <tr>\n",
       "      <th>Zunguni</th>\n",
       "      <td>0</td>\n",
       "      <td>0</td>\n",
       "      <td>1</td>\n",
       "    </tr>\n",
       "    <tr>\n",
       "      <th>Zunzuli</th>\n",
       "      <td>1</td>\n",
       "      <td>0</td>\n",
       "      <td>3</td>\n",
       "    </tr>\n",
       "    <tr>\n",
       "      <th>Zuri</th>\n",
       "      <td>0</td>\n",
       "      <td>0</td>\n",
       "      <td>1</td>\n",
       "    </tr>\n",
       "  </tbody>\n",
       "</table>\n",
       "<p>19287 rows × 3 columns</p>\n",
       "</div>"
      ],
      "text/plain": [
       "status_group       functional  functional needs repair  non functional\n",
       "subvillage                                                            \n",
       "##                          1                        0               0\n",
       "'A' Kati                    0                        0               1\n",
       "1                          52                        8              72\n",
       "14Kambalage                 5                        0               0\n",
       "18                          0                        0               1\n",
       "...                       ...                      ...             ...\n",
       "Zumbawanu Shuleni           1                        0               0\n",
       "Zunga                       1                        0               0\n",
       "Zunguni                     0                        0               1\n",
       "Zunzuli                     1                        0               3\n",
       "Zuri                        0                        0               1\n",
       "\n",
       "[19287 rows x 3 columns]"
      ]
     },
     "execution_count": 209,
     "metadata": {
      "tags": []
     },
     "output_type": "execute_result"
    }
   ],
   "source": [
    "pd.crosstab(train_test['subvillage'],train_test['status_group'])"
   ]
  },
  {
   "cell_type": "markdown",
   "metadata": {
    "id": "AvRAE0YkwXd0"
   },
   "source": [
    " There are alot of values for subvillage so we can either drop it or keep it we have to check both the options and see which works best.As of now we will not add it to drop_cols."
   ]
  },
  {
   "cell_type": "code",
   "execution_count": 210,
   "metadata": {
    "colab": {
     "base_uri": "https://localhost:8080/"
    },
    "id": "TjbjrkXcwxpn",
    "outputId": "09a75f24-193e-490c-b87c-351680e64ff2"
   },
   "outputs": [
    {
     "name": "stdout",
     "output_type": "stream",
     "text": [
      "Unique Values of lga and ward\n",
      " \n",
      "Njombe          3128\n",
      "Moshi Rural     1566\n",
      "Arusha Rural    1521\n",
      "Bariadi         1485\n",
      "Rungwe          1381\n",
      "                ... \n",
      "Songea Urban     103\n",
      "Kigoma Urban      95\n",
      "Arusha Urban      82\n",
      "Lindi Urban       24\n",
      "Nyamagana          2\n",
      "Name: lga, Length: 125, dtype: int64\n",
      "Igosi        386\n",
      "Imalinyi     318\n",
      "Siha Kati    297\n",
      "Mdandu       292\n",
      "Nduruma      261\n",
      "            ... \n",
      "Kirongo        1\n",
      "Mdabulo        1\n",
      "Korongoni      1\n",
      "Mawenzi        1\n",
      "Gorong'a       1\n",
      "Name: ward, Length: 2098, dtype: int64\n"
     ]
    }
   ],
   "source": [
    "print(\"Unique Values of lga and ward\")\n",
    "print(\" \")\n",
    "print(train_test['lga'].value_counts())\n",
    "print(train_test['ward'].value_counts())"
   ]
  },
  {
   "cell_type": "markdown",
   "metadata": {
    "id": "68pr9pa2xCan"
   },
   "source": [
    "**Same as of subvillage we have to try both.**"
   ]
  },
  {
   "cell_type": "markdown",
   "metadata": {
    "id": "wnDD0NR8xiIc"
   },
   "source": [
    "**Recordedby,Schemename and SchemeManagement**"
   ]
  },
  {
   "cell_type": "code",
   "execution_count": 211,
   "metadata": {
    "id": "Lx2v1717xVxy"
   },
   "outputs": [],
   "source": [
    "# Since all values are recorded by GeoData Consultants Ltd we can drop it and also scheme_name has alot of null values \n",
    "# can drop it.\n",
    "drop_cols.append(\"recorded_by\")\n",
    "drop_cols.append(\"scheme_name\")\n"
   ]
  },
  {
   "cell_type": "code",
   "execution_count": 212,
   "metadata": {
    "colab": {
     "base_uri": "https://localhost:8080/"
    },
    "id": "mP5t6Jl1x1Yy",
    "outputId": "68859f9f-749d-461a-9cfb-5a70c57e9b4a"
   },
   "outputs": [
    {
     "name": "stdout",
     "output_type": "stream",
     "text": [
      "VWC                 45917\n",
      "WUG                  6496\n",
      "Water authority      3975\n",
      "WUA                  3551\n",
      "Water Board          3462\n",
      "Parastatal           2124\n",
      "Company              1341\n",
      "Private operator     1326\n",
      "Other                 996\n",
      "SWC                   123\n",
      "Trust                  92\n",
      "None                    1\n",
      "Name: scheme_management, dtype: int64\n"
     ]
    }
   ],
   "source": [
    "print(train_test['scheme_management'].value_counts())"
   ]
  },
  {
   "cell_type": "markdown",
   "metadata": {
    "id": "WcQgSJcxyZZO"
   },
   "source": [
    "We can impute scheme_management with either mode or value=\"missing\" as done for Funder and Installer in modelling we can try both and check which works better."
   ]
  },
  {
   "cell_type": "code",
   "execution_count": 213,
   "metadata": {
    "colab": {
     "base_uri": "https://localhost:8080/"
    },
    "id": "jZ2ciuR-eZsr",
    "outputId": "f49de05b-0920-4257-c463-39e5523a3ba4"
   },
   "outputs": [
    {
     "data": {
      "text/plain": [
       "user-group    65538\n",
       "commercial     4591\n",
       "parastatal     2229\n",
       "other          1209\n",
       "unknown         683\n",
       "Name: management_group, dtype: int64"
      ]
     },
     "execution_count": 213,
     "metadata": {
      "tags": []
     },
     "output_type": "execute_result"
    }
   ],
   "source": [
    "train_test['management_group'].value_counts()"
   ]
  },
  {
   "cell_type": "code",
   "execution_count": 214,
   "metadata": {
    "colab": {
     "base_uri": "https://localhost:8080/"
    },
    "id": "qSXJ71h3gC7b",
    "outputId": "b34bcd72-0640-4e4a-f32a-dfeabe067351"
   },
   "outputs": [
    {
     "data": {
      "text/plain": [
       "vwc                 50624\n",
       "wug                  8108\n",
       "water board          3688\n",
       "wua                  3118\n",
       "private operator     2504\n",
       "parastatal           2229\n",
       "water authority      1123\n",
       "other                1083\n",
       "company               859\n",
       "unknown               683\n",
       "other - school        126\n",
       "trust                 105\n",
       "Name: management, dtype: int64"
      ]
     },
     "execution_count": 214,
     "metadata": {
      "tags": []
     },
     "output_type": "execute_result"
    }
   ],
   "source": [
    "train_test['management'].value_counts()"
   ]
  },
  {
   "cell_type": "code",
   "execution_count": 215,
   "metadata": {
    "colab": {
     "base_uri": "https://localhost:8080/"
    },
    "id": "7aPZg7Pm4qkt",
    "outputId": "be94a700-43c5-49f4-bfe7-d2fb3fc37405"
   },
   "outputs": [
    {
     "name": "stdout",
     "output_type": "stream",
     "text": [
      "vwc            50624\n",
      "wug             8108\n",
      "water board     3688\n",
      "wua             3118\n",
      "Name: management, dtype: int64\n",
      "private operator    2504\n",
      "water authority     1123\n",
      "company              859\n",
      "trust                105\n",
      "Name: management, dtype: int64\n"
     ]
    }
   ],
   "source": [
    "print(train_test[train_test['management_group']=='user-group']['management'].value_counts())\n",
    "print(train_test[train_test['management_group']=='commercial']['management'].value_counts())"
   ]
  },
  {
   "cell_type": "code",
   "execution_count": 216,
   "metadata": {
    "colab": {
     "base_uri": "https://localhost:8080/",
     "height": 452
    },
    "id": "YPMO4ynE5Yw8",
    "outputId": "4f311f55-04e5-4b3b-bd63-eda9921a6817"
   },
   "outputs": [
    {
     "data": {
      "text/html": [
       "<div>\n",
       "<style scoped>\n",
       "    .dataframe tbody tr th:only-of-type {\n",
       "        vertical-align: middle;\n",
       "    }\n",
       "\n",
       "    .dataframe tbody tr th {\n",
       "        vertical-align: top;\n",
       "    }\n",
       "\n",
       "    .dataframe thead th {\n",
       "        text-align: right;\n",
       "    }\n",
       "</style>\n",
       "<table border=\"1\" class=\"dataframe\">\n",
       "  <thead>\n",
       "    <tr style=\"text-align: right;\">\n",
       "      <th>status_group</th>\n",
       "      <th>functional</th>\n",
       "      <th>functional needs repair</th>\n",
       "      <th>non functional</th>\n",
       "    </tr>\n",
       "    <tr>\n",
       "      <th>management</th>\n",
       "      <th></th>\n",
       "      <th></th>\n",
       "      <th></th>\n",
       "    </tr>\n",
       "  </thead>\n",
       "  <tbody>\n",
       "    <tr>\n",
       "      <th>company</th>\n",
       "      <td>267</td>\n",
       "      <td>15</td>\n",
       "      <td>403</td>\n",
       "    </tr>\n",
       "    <tr>\n",
       "      <th>other</th>\n",
       "      <td>505</td>\n",
       "      <td>55</td>\n",
       "      <td>284</td>\n",
       "    </tr>\n",
       "    <tr>\n",
       "      <th>other - school</th>\n",
       "      <td>23</td>\n",
       "      <td>1</td>\n",
       "      <td>75</td>\n",
       "    </tr>\n",
       "    <tr>\n",
       "      <th>parastatal</th>\n",
       "      <td>1020</td>\n",
       "      <td>211</td>\n",
       "      <td>537</td>\n",
       "    </tr>\n",
       "    <tr>\n",
       "      <th>private operator</th>\n",
       "      <td>1476</td>\n",
       "      <td>44</td>\n",
       "      <td>451</td>\n",
       "    </tr>\n",
       "    <tr>\n",
       "      <th>trust</th>\n",
       "      <td>46</td>\n",
       "      <td>6</td>\n",
       "      <td>26</td>\n",
       "    </tr>\n",
       "    <tr>\n",
       "      <th>unknown</th>\n",
       "      <td>224</td>\n",
       "      <td>27</td>\n",
       "      <td>310</td>\n",
       "    </tr>\n",
       "    <tr>\n",
       "      <th>vwc</th>\n",
       "      <td>20425</td>\n",
       "      <td>2791</td>\n",
       "      <td>17291</td>\n",
       "    </tr>\n",
       "    <tr>\n",
       "      <th>water authority</th>\n",
       "      <td>446</td>\n",
       "      <td>52</td>\n",
       "      <td>406</td>\n",
       "    </tr>\n",
       "    <tr>\n",
       "      <th>water board</th>\n",
       "      <td>2170</td>\n",
       "      <td>265</td>\n",
       "      <td>498</td>\n",
       "    </tr>\n",
       "    <tr>\n",
       "      <th>wua</th>\n",
       "      <td>1751</td>\n",
       "      <td>205</td>\n",
       "      <td>579</td>\n",
       "    </tr>\n",
       "    <tr>\n",
       "      <th>wug</th>\n",
       "      <td>3906</td>\n",
       "      <td>645</td>\n",
       "      <td>1964</td>\n",
       "    </tr>\n",
       "  </tbody>\n",
       "</table>\n",
       "</div>"
      ],
      "text/plain": [
       "status_group      functional  functional needs repair  non functional\n",
       "management                                                           \n",
       "company                  267                       15             403\n",
       "other                    505                       55             284\n",
       "other - school            23                        1              75\n",
       "parastatal              1020                      211             537\n",
       "private operator        1476                       44             451\n",
       "trust                     46                        6              26\n",
       "unknown                  224                       27             310\n",
       "vwc                    20425                     2791           17291\n",
       "water authority          446                       52             406\n",
       "water board             2170                      265             498\n",
       "wua                     1751                      205             579\n",
       "wug                     3906                      645            1964"
      ]
     },
     "execution_count": 216,
     "metadata": {
      "tags": []
     },
     "output_type": "execute_result"
    }
   ],
   "source": [
    "pd.crosstab(train_test['management'],train_test['status_group'])"
   ]
  },
  {
   "cell_type": "code",
   "execution_count": 217,
   "metadata": {
    "colab": {
     "base_uri": "https://localhost:8080/",
     "height": 235
    },
    "id": "m50IoB9F50hG",
    "outputId": "1e28f418-7001-4274-d24b-cfd6712297ce"
   },
   "outputs": [
    {
     "data": {
      "text/html": [
       "<div>\n",
       "<style scoped>\n",
       "    .dataframe tbody tr th:only-of-type {\n",
       "        vertical-align: middle;\n",
       "    }\n",
       "\n",
       "    .dataframe tbody tr th {\n",
       "        vertical-align: top;\n",
       "    }\n",
       "\n",
       "    .dataframe thead th {\n",
       "        text-align: right;\n",
       "    }\n",
       "</style>\n",
       "<table border=\"1\" class=\"dataframe\">\n",
       "  <thead>\n",
       "    <tr style=\"text-align: right;\">\n",
       "      <th>status_group</th>\n",
       "      <th>functional</th>\n",
       "      <th>functional needs repair</th>\n",
       "      <th>non functional</th>\n",
       "    </tr>\n",
       "    <tr>\n",
       "      <th>management_group</th>\n",
       "      <th></th>\n",
       "      <th></th>\n",
       "      <th></th>\n",
       "    </tr>\n",
       "  </thead>\n",
       "  <tbody>\n",
       "    <tr>\n",
       "      <th>commercial</th>\n",
       "      <td>2235</td>\n",
       "      <td>117</td>\n",
       "      <td>1286</td>\n",
       "    </tr>\n",
       "    <tr>\n",
       "      <th>other</th>\n",
       "      <td>528</td>\n",
       "      <td>56</td>\n",
       "      <td>359</td>\n",
       "    </tr>\n",
       "    <tr>\n",
       "      <th>parastatal</th>\n",
       "      <td>1020</td>\n",
       "      <td>211</td>\n",
       "      <td>537</td>\n",
       "    </tr>\n",
       "    <tr>\n",
       "      <th>unknown</th>\n",
       "      <td>224</td>\n",
       "      <td>27</td>\n",
       "      <td>310</td>\n",
       "    </tr>\n",
       "    <tr>\n",
       "      <th>user-group</th>\n",
       "      <td>28252</td>\n",
       "      <td>3906</td>\n",
       "      <td>20332</td>\n",
       "    </tr>\n",
       "  </tbody>\n",
       "</table>\n",
       "</div>"
      ],
      "text/plain": [
       "status_group      functional  functional needs repair  non functional\n",
       "management_group                                                     \n",
       "commercial              2235                      117            1286\n",
       "other                    528                       56             359\n",
       "parastatal              1020                      211             537\n",
       "unknown                  224                       27             310\n",
       "user-group             28252                     3906           20332"
      ]
     },
     "execution_count": 217,
     "metadata": {
      "tags": []
     },
     "output_type": "execute_result"
    }
   ],
   "source": [
    "pd.crosstab(train_test['management_group'],train_test['status_group'])"
   ]
  },
  {
   "cell_type": "markdown",
   "metadata": {
    "id": "JfEGq1964Ig_"
   },
   "source": [
    "Management_group are Management are correlated but we can see that both are correlated with status_group"
   ]
  },
  {
   "cell_type": "markdown",
   "metadata": {
    "id": "z1WWCVWS4JkR"
   },
   "source": [
    "**Extraction Columns**"
   ]
  },
  {
   "cell_type": "code",
   "execution_count": 218,
   "metadata": {
    "colab": {
     "base_uri": "https://localhost:8080/",
     "height": 638
    },
    "id": "lC-p7moegGg4",
    "outputId": "33db7138-ad33-49ff-d174-71b3b811702e"
   },
   "outputs": [
    {
     "data": {
      "text/html": [
       "<div>\n",
       "<style scoped>\n",
       "    .dataframe tbody tr th:only-of-type {\n",
       "        vertical-align: middle;\n",
       "    }\n",
       "\n",
       "    .dataframe tbody tr th {\n",
       "        vertical-align: top;\n",
       "    }\n",
       "\n",
       "    .dataframe thead th {\n",
       "        text-align: right;\n",
       "    }\n",
       "</style>\n",
       "<table border=\"1\" class=\"dataframe\">\n",
       "  <thead>\n",
       "    <tr style=\"text-align: right;\">\n",
       "      <th>extraction_type_class</th>\n",
       "      <th>gravity</th>\n",
       "      <th>handpump</th>\n",
       "      <th>motorpump</th>\n",
       "      <th>other</th>\n",
       "      <th>rope pump</th>\n",
       "      <th>submersible</th>\n",
       "      <th>wind-powered</th>\n",
       "    </tr>\n",
       "    <tr>\n",
       "      <th>extraction_type</th>\n",
       "      <th></th>\n",
       "      <th></th>\n",
       "      <th></th>\n",
       "      <th></th>\n",
       "      <th></th>\n",
       "      <th></th>\n",
       "      <th></th>\n",
       "    </tr>\n",
       "  </thead>\n",
       "  <tbody>\n",
       "    <tr>\n",
       "      <th>afridev</th>\n",
       "      <td>0</td>\n",
       "      <td>2208</td>\n",
       "      <td>0</td>\n",
       "      <td>0</td>\n",
       "      <td>0</td>\n",
       "      <td>0</td>\n",
       "      <td>0</td>\n",
       "    </tr>\n",
       "    <tr>\n",
       "      <th>cemo</th>\n",
       "      <td>0</td>\n",
       "      <td>0</td>\n",
       "      <td>108</td>\n",
       "      <td>0</td>\n",
       "      <td>0</td>\n",
       "      <td>0</td>\n",
       "      <td>0</td>\n",
       "    </tr>\n",
       "    <tr>\n",
       "      <th>climax</th>\n",
       "      <td>0</td>\n",
       "      <td>0</td>\n",
       "      <td>41</td>\n",
       "      <td>0</td>\n",
       "      <td>0</td>\n",
       "      <td>0</td>\n",
       "      <td>0</td>\n",
       "    </tr>\n",
       "    <tr>\n",
       "      <th>gravity</th>\n",
       "      <td>33263</td>\n",
       "      <td>0</td>\n",
       "      <td>0</td>\n",
       "      <td>0</td>\n",
       "      <td>0</td>\n",
       "      <td>0</td>\n",
       "      <td>0</td>\n",
       "    </tr>\n",
       "    <tr>\n",
       "      <th>india mark ii</th>\n",
       "      <td>0</td>\n",
       "      <td>3029</td>\n",
       "      <td>0</td>\n",
       "      <td>0</td>\n",
       "      <td>0</td>\n",
       "      <td>0</td>\n",
       "      <td>0</td>\n",
       "    </tr>\n",
       "    <tr>\n",
       "      <th>india mark iii</th>\n",
       "      <td>0</td>\n",
       "      <td>135</td>\n",
       "      <td>0</td>\n",
       "      <td>0</td>\n",
       "      <td>0</td>\n",
       "      <td>0</td>\n",
       "      <td>0</td>\n",
       "    </tr>\n",
       "    <tr>\n",
       "      <th>ksb</th>\n",
       "      <td>0</td>\n",
       "      <td>0</td>\n",
       "      <td>0</td>\n",
       "      <td>0</td>\n",
       "      <td>0</td>\n",
       "      <td>1790</td>\n",
       "      <td>0</td>\n",
       "    </tr>\n",
       "    <tr>\n",
       "      <th>mono</th>\n",
       "      <td>0</td>\n",
       "      <td>0</td>\n",
       "      <td>3628</td>\n",
       "      <td>0</td>\n",
       "      <td>0</td>\n",
       "      <td>0</td>\n",
       "      <td>0</td>\n",
       "    </tr>\n",
       "    <tr>\n",
       "      <th>nira/tanira</th>\n",
       "      <td>0</td>\n",
       "      <td>10205</td>\n",
       "      <td>0</td>\n",
       "      <td>0</td>\n",
       "      <td>0</td>\n",
       "      <td>0</td>\n",
       "      <td>0</td>\n",
       "    </tr>\n",
       "    <tr>\n",
       "      <th>other</th>\n",
       "      <td>0</td>\n",
       "      <td>0</td>\n",
       "      <td>0</td>\n",
       "      <td>8102</td>\n",
       "      <td>0</td>\n",
       "      <td>0</td>\n",
       "      <td>0</td>\n",
       "    </tr>\n",
       "    <tr>\n",
       "      <th>other - mkulima/shinyanga</th>\n",
       "      <td>0</td>\n",
       "      <td>2</td>\n",
       "      <td>0</td>\n",
       "      <td>0</td>\n",
       "      <td>0</td>\n",
       "      <td>0</td>\n",
       "      <td>0</td>\n",
       "    </tr>\n",
       "    <tr>\n",
       "      <th>other - play pump</th>\n",
       "      <td>0</td>\n",
       "      <td>101</td>\n",
       "      <td>0</td>\n",
       "      <td>0</td>\n",
       "      <td>0</td>\n",
       "      <td>0</td>\n",
       "      <td>0</td>\n",
       "    </tr>\n",
       "    <tr>\n",
       "      <th>other - rope pump</th>\n",
       "      <td>0</td>\n",
       "      <td>0</td>\n",
       "      <td>0</td>\n",
       "      <td>0</td>\n",
       "      <td>572</td>\n",
       "      <td>0</td>\n",
       "      <td>0</td>\n",
       "    </tr>\n",
       "    <tr>\n",
       "      <th>other - swn 81</th>\n",
       "      <td>0</td>\n",
       "      <td>284</td>\n",
       "      <td>0</td>\n",
       "      <td>0</td>\n",
       "      <td>0</td>\n",
       "      <td>0</td>\n",
       "      <td>0</td>\n",
       "    </tr>\n",
       "    <tr>\n",
       "      <th>submersible</th>\n",
       "      <td>0</td>\n",
       "      <td>0</td>\n",
       "      <td>0</td>\n",
       "      <td>0</td>\n",
       "      <td>0</td>\n",
       "      <td>5982</td>\n",
       "      <td>0</td>\n",
       "    </tr>\n",
       "    <tr>\n",
       "      <th>swn 80</th>\n",
       "      <td>0</td>\n",
       "      <td>4588</td>\n",
       "      <td>0</td>\n",
       "      <td>0</td>\n",
       "      <td>0</td>\n",
       "      <td>0</td>\n",
       "      <td>0</td>\n",
       "    </tr>\n",
       "    <tr>\n",
       "      <th>walimi</th>\n",
       "      <td>0</td>\n",
       "      <td>60</td>\n",
       "      <td>0</td>\n",
       "      <td>0</td>\n",
       "      <td>0</td>\n",
       "      <td>0</td>\n",
       "      <td>0</td>\n",
       "    </tr>\n",
       "    <tr>\n",
       "      <th>windmill</th>\n",
       "      <td>0</td>\n",
       "      <td>0</td>\n",
       "      <td>0</td>\n",
       "      <td>0</td>\n",
       "      <td>0</td>\n",
       "      <td>0</td>\n",
       "      <td>152</td>\n",
       "    </tr>\n",
       "  </tbody>\n",
       "</table>\n",
       "</div>"
      ],
      "text/plain": [
       "extraction_type_class      gravity  handpump  ...  submersible  wind-powered\n",
       "extraction_type                               ...                           \n",
       "afridev                          0      2208  ...            0             0\n",
       "cemo                             0         0  ...            0             0\n",
       "climax                           0         0  ...            0             0\n",
       "gravity                      33263         0  ...            0             0\n",
       "india mark ii                    0      3029  ...            0             0\n",
       "india mark iii                   0       135  ...            0             0\n",
       "ksb                              0         0  ...         1790             0\n",
       "mono                             0         0  ...            0             0\n",
       "nira/tanira                      0     10205  ...            0             0\n",
       "other                            0         0  ...            0             0\n",
       "other - mkulima/shinyanga        0         2  ...            0             0\n",
       "other - play pump                0       101  ...            0             0\n",
       "other - rope pump                0         0  ...            0             0\n",
       "other - swn 81                   0       284  ...            0             0\n",
       "submersible                      0         0  ...         5982             0\n",
       "swn 80                           0      4588  ...            0             0\n",
       "walimi                           0        60  ...            0             0\n",
       "windmill                         0         0  ...            0           152\n",
       "\n",
       "[18 rows x 7 columns]"
      ]
     },
     "execution_count": 218,
     "metadata": {
      "tags": []
     },
     "output_type": "execute_result"
    }
   ],
   "source": [
    "pd.crosstab(train_test['extraction_type'],train_test['extraction_type_class'])"
   ]
  },
  {
   "cell_type": "code",
   "execution_count": 219,
   "metadata": {
    "colab": {
     "base_uri": "https://localhost:8080/",
     "height": 483
    },
    "id": "n4e8qzXJ6foo",
    "outputId": "80fdb5d5-921b-498c-e1f7-24920e164538"
   },
   "outputs": [
    {
     "data": {
      "text/html": [
       "<div>\n",
       "<style scoped>\n",
       "    .dataframe tbody tr th:only-of-type {\n",
       "        vertical-align: middle;\n",
       "    }\n",
       "\n",
       "    .dataframe tbody tr th {\n",
       "        vertical-align: top;\n",
       "    }\n",
       "\n",
       "    .dataframe thead th {\n",
       "        text-align: right;\n",
       "    }\n",
       "</style>\n",
       "<table border=\"1\" class=\"dataframe\">\n",
       "  <thead>\n",
       "    <tr style=\"text-align: right;\">\n",
       "      <th>extraction_type_class</th>\n",
       "      <th>gravity</th>\n",
       "      <th>handpump</th>\n",
       "      <th>motorpump</th>\n",
       "      <th>other</th>\n",
       "      <th>rope pump</th>\n",
       "      <th>submersible</th>\n",
       "      <th>wind-powered</th>\n",
       "    </tr>\n",
       "    <tr>\n",
       "      <th>extraction_type_group</th>\n",
       "      <th></th>\n",
       "      <th></th>\n",
       "      <th></th>\n",
       "      <th></th>\n",
       "      <th></th>\n",
       "      <th></th>\n",
       "      <th></th>\n",
       "    </tr>\n",
       "  </thead>\n",
       "  <tbody>\n",
       "    <tr>\n",
       "      <th>afridev</th>\n",
       "      <td>0</td>\n",
       "      <td>2208</td>\n",
       "      <td>0</td>\n",
       "      <td>0</td>\n",
       "      <td>0</td>\n",
       "      <td>0</td>\n",
       "      <td>0</td>\n",
       "    </tr>\n",
       "    <tr>\n",
       "      <th>gravity</th>\n",
       "      <td>33263</td>\n",
       "      <td>0</td>\n",
       "      <td>0</td>\n",
       "      <td>0</td>\n",
       "      <td>0</td>\n",
       "      <td>0</td>\n",
       "      <td>0</td>\n",
       "    </tr>\n",
       "    <tr>\n",
       "      <th>india mark ii</th>\n",
       "      <td>0</td>\n",
       "      <td>3029</td>\n",
       "      <td>0</td>\n",
       "      <td>0</td>\n",
       "      <td>0</td>\n",
       "      <td>0</td>\n",
       "      <td>0</td>\n",
       "    </tr>\n",
       "    <tr>\n",
       "      <th>india mark iii</th>\n",
       "      <td>0</td>\n",
       "      <td>135</td>\n",
       "      <td>0</td>\n",
       "      <td>0</td>\n",
       "      <td>0</td>\n",
       "      <td>0</td>\n",
       "      <td>0</td>\n",
       "    </tr>\n",
       "    <tr>\n",
       "      <th>mono</th>\n",
       "      <td>0</td>\n",
       "      <td>0</td>\n",
       "      <td>3628</td>\n",
       "      <td>0</td>\n",
       "      <td>0</td>\n",
       "      <td>0</td>\n",
       "      <td>0</td>\n",
       "    </tr>\n",
       "    <tr>\n",
       "      <th>nira/tanira</th>\n",
       "      <td>0</td>\n",
       "      <td>10205</td>\n",
       "      <td>0</td>\n",
       "      <td>0</td>\n",
       "      <td>0</td>\n",
       "      <td>0</td>\n",
       "      <td>0</td>\n",
       "    </tr>\n",
       "    <tr>\n",
       "      <th>other</th>\n",
       "      <td>0</td>\n",
       "      <td>0</td>\n",
       "      <td>0</td>\n",
       "      <td>8102</td>\n",
       "      <td>0</td>\n",
       "      <td>0</td>\n",
       "      <td>0</td>\n",
       "    </tr>\n",
       "    <tr>\n",
       "      <th>other handpump</th>\n",
       "      <td>0</td>\n",
       "      <td>447</td>\n",
       "      <td>0</td>\n",
       "      <td>0</td>\n",
       "      <td>0</td>\n",
       "      <td>0</td>\n",
       "      <td>0</td>\n",
       "    </tr>\n",
       "    <tr>\n",
       "      <th>other motorpump</th>\n",
       "      <td>0</td>\n",
       "      <td>0</td>\n",
       "      <td>149</td>\n",
       "      <td>0</td>\n",
       "      <td>0</td>\n",
       "      <td>0</td>\n",
       "      <td>0</td>\n",
       "    </tr>\n",
       "    <tr>\n",
       "      <th>rope pump</th>\n",
       "      <td>0</td>\n",
       "      <td>0</td>\n",
       "      <td>0</td>\n",
       "      <td>0</td>\n",
       "      <td>572</td>\n",
       "      <td>0</td>\n",
       "      <td>0</td>\n",
       "    </tr>\n",
       "    <tr>\n",
       "      <th>submersible</th>\n",
       "      <td>0</td>\n",
       "      <td>0</td>\n",
       "      <td>0</td>\n",
       "      <td>0</td>\n",
       "      <td>0</td>\n",
       "      <td>7772</td>\n",
       "      <td>0</td>\n",
       "    </tr>\n",
       "    <tr>\n",
       "      <th>swn 80</th>\n",
       "      <td>0</td>\n",
       "      <td>4588</td>\n",
       "      <td>0</td>\n",
       "      <td>0</td>\n",
       "      <td>0</td>\n",
       "      <td>0</td>\n",
       "      <td>0</td>\n",
       "    </tr>\n",
       "    <tr>\n",
       "      <th>wind-powered</th>\n",
       "      <td>0</td>\n",
       "      <td>0</td>\n",
       "      <td>0</td>\n",
       "      <td>0</td>\n",
       "      <td>0</td>\n",
       "      <td>0</td>\n",
       "      <td>152</td>\n",
       "    </tr>\n",
       "  </tbody>\n",
       "</table>\n",
       "</div>"
      ],
      "text/plain": [
       "extraction_type_class  gravity  handpump  ...  submersible  wind-powered\n",
       "extraction_type_group                     ...                           \n",
       "afridev                      0      2208  ...            0             0\n",
       "gravity                  33263         0  ...            0             0\n",
       "india mark ii                0      3029  ...            0             0\n",
       "india mark iii               0       135  ...            0             0\n",
       "mono                         0         0  ...            0             0\n",
       "nira/tanira                  0     10205  ...            0             0\n",
       "other                        0         0  ...            0             0\n",
       "other handpump               0       447  ...            0             0\n",
       "other motorpump              0         0  ...            0             0\n",
       "rope pump                    0         0  ...            0             0\n",
       "submersible                  0         0  ...         7772             0\n",
       "swn 80                       0      4588  ...            0             0\n",
       "wind-powered                 0         0  ...            0           152\n",
       "\n",
       "[13 rows x 7 columns]"
      ]
     },
     "execution_count": 219,
     "metadata": {
      "tags": []
     },
     "output_type": "execute_result"
    }
   ],
   "source": [
    "pd.crosstab(train_test['extraction_type_group'],train_test['extraction_type_class'])\n"
   ]
  },
  {
   "cell_type": "code",
   "execution_count": 220,
   "metadata": {
    "colab": {
     "base_uri": "https://localhost:8080/",
     "height": 709
    },
    "id": "Tleq87fD6sqG",
    "outputId": "b73dc986-aa6f-4223-e46b-0e4dcca113f5"
   },
   "outputs": [
    {
     "data": {
      "text/html": [
       "<div>\n",
       "<style scoped>\n",
       "    .dataframe tbody tr th:only-of-type {\n",
       "        vertical-align: middle;\n",
       "    }\n",
       "\n",
       "    .dataframe tbody tr th {\n",
       "        vertical-align: top;\n",
       "    }\n",
       "\n",
       "    .dataframe thead th {\n",
       "        text-align: right;\n",
       "    }\n",
       "</style>\n",
       "<table border=\"1\" class=\"dataframe\">\n",
       "  <thead>\n",
       "    <tr style=\"text-align: right;\">\n",
       "      <th>extraction_type_group</th>\n",
       "      <th>afridev</th>\n",
       "      <th>gravity</th>\n",
       "      <th>india mark ii</th>\n",
       "      <th>india mark iii</th>\n",
       "      <th>mono</th>\n",
       "      <th>nira/tanira</th>\n",
       "      <th>other</th>\n",
       "      <th>other handpump</th>\n",
       "      <th>other motorpump</th>\n",
       "      <th>rope pump</th>\n",
       "      <th>submersible</th>\n",
       "      <th>swn 80</th>\n",
       "      <th>wind-powered</th>\n",
       "    </tr>\n",
       "    <tr>\n",
       "      <th>extraction_type</th>\n",
       "      <th></th>\n",
       "      <th></th>\n",
       "      <th></th>\n",
       "      <th></th>\n",
       "      <th></th>\n",
       "      <th></th>\n",
       "      <th></th>\n",
       "      <th></th>\n",
       "      <th></th>\n",
       "      <th></th>\n",
       "      <th></th>\n",
       "      <th></th>\n",
       "      <th></th>\n",
       "    </tr>\n",
       "  </thead>\n",
       "  <tbody>\n",
       "    <tr>\n",
       "      <th>afridev</th>\n",
       "      <td>2208</td>\n",
       "      <td>0</td>\n",
       "      <td>0</td>\n",
       "      <td>0</td>\n",
       "      <td>0</td>\n",
       "      <td>0</td>\n",
       "      <td>0</td>\n",
       "      <td>0</td>\n",
       "      <td>0</td>\n",
       "      <td>0</td>\n",
       "      <td>0</td>\n",
       "      <td>0</td>\n",
       "      <td>0</td>\n",
       "    </tr>\n",
       "    <tr>\n",
       "      <th>cemo</th>\n",
       "      <td>0</td>\n",
       "      <td>0</td>\n",
       "      <td>0</td>\n",
       "      <td>0</td>\n",
       "      <td>0</td>\n",
       "      <td>0</td>\n",
       "      <td>0</td>\n",
       "      <td>0</td>\n",
       "      <td>108</td>\n",
       "      <td>0</td>\n",
       "      <td>0</td>\n",
       "      <td>0</td>\n",
       "      <td>0</td>\n",
       "    </tr>\n",
       "    <tr>\n",
       "      <th>climax</th>\n",
       "      <td>0</td>\n",
       "      <td>0</td>\n",
       "      <td>0</td>\n",
       "      <td>0</td>\n",
       "      <td>0</td>\n",
       "      <td>0</td>\n",
       "      <td>0</td>\n",
       "      <td>0</td>\n",
       "      <td>41</td>\n",
       "      <td>0</td>\n",
       "      <td>0</td>\n",
       "      <td>0</td>\n",
       "      <td>0</td>\n",
       "    </tr>\n",
       "    <tr>\n",
       "      <th>gravity</th>\n",
       "      <td>0</td>\n",
       "      <td>33263</td>\n",
       "      <td>0</td>\n",
       "      <td>0</td>\n",
       "      <td>0</td>\n",
       "      <td>0</td>\n",
       "      <td>0</td>\n",
       "      <td>0</td>\n",
       "      <td>0</td>\n",
       "      <td>0</td>\n",
       "      <td>0</td>\n",
       "      <td>0</td>\n",
       "      <td>0</td>\n",
       "    </tr>\n",
       "    <tr>\n",
       "      <th>india mark ii</th>\n",
       "      <td>0</td>\n",
       "      <td>0</td>\n",
       "      <td>3029</td>\n",
       "      <td>0</td>\n",
       "      <td>0</td>\n",
       "      <td>0</td>\n",
       "      <td>0</td>\n",
       "      <td>0</td>\n",
       "      <td>0</td>\n",
       "      <td>0</td>\n",
       "      <td>0</td>\n",
       "      <td>0</td>\n",
       "      <td>0</td>\n",
       "    </tr>\n",
       "    <tr>\n",
       "      <th>india mark iii</th>\n",
       "      <td>0</td>\n",
       "      <td>0</td>\n",
       "      <td>0</td>\n",
       "      <td>135</td>\n",
       "      <td>0</td>\n",
       "      <td>0</td>\n",
       "      <td>0</td>\n",
       "      <td>0</td>\n",
       "      <td>0</td>\n",
       "      <td>0</td>\n",
       "      <td>0</td>\n",
       "      <td>0</td>\n",
       "      <td>0</td>\n",
       "    </tr>\n",
       "    <tr>\n",
       "      <th>ksb</th>\n",
       "      <td>0</td>\n",
       "      <td>0</td>\n",
       "      <td>0</td>\n",
       "      <td>0</td>\n",
       "      <td>0</td>\n",
       "      <td>0</td>\n",
       "      <td>0</td>\n",
       "      <td>0</td>\n",
       "      <td>0</td>\n",
       "      <td>0</td>\n",
       "      <td>1790</td>\n",
       "      <td>0</td>\n",
       "      <td>0</td>\n",
       "    </tr>\n",
       "    <tr>\n",
       "      <th>mono</th>\n",
       "      <td>0</td>\n",
       "      <td>0</td>\n",
       "      <td>0</td>\n",
       "      <td>0</td>\n",
       "      <td>3628</td>\n",
       "      <td>0</td>\n",
       "      <td>0</td>\n",
       "      <td>0</td>\n",
       "      <td>0</td>\n",
       "      <td>0</td>\n",
       "      <td>0</td>\n",
       "      <td>0</td>\n",
       "      <td>0</td>\n",
       "    </tr>\n",
       "    <tr>\n",
       "      <th>nira/tanira</th>\n",
       "      <td>0</td>\n",
       "      <td>0</td>\n",
       "      <td>0</td>\n",
       "      <td>0</td>\n",
       "      <td>0</td>\n",
       "      <td>10205</td>\n",
       "      <td>0</td>\n",
       "      <td>0</td>\n",
       "      <td>0</td>\n",
       "      <td>0</td>\n",
       "      <td>0</td>\n",
       "      <td>0</td>\n",
       "      <td>0</td>\n",
       "    </tr>\n",
       "    <tr>\n",
       "      <th>other</th>\n",
       "      <td>0</td>\n",
       "      <td>0</td>\n",
       "      <td>0</td>\n",
       "      <td>0</td>\n",
       "      <td>0</td>\n",
       "      <td>0</td>\n",
       "      <td>8102</td>\n",
       "      <td>0</td>\n",
       "      <td>0</td>\n",
       "      <td>0</td>\n",
       "      <td>0</td>\n",
       "      <td>0</td>\n",
       "      <td>0</td>\n",
       "    </tr>\n",
       "    <tr>\n",
       "      <th>other - mkulima/shinyanga</th>\n",
       "      <td>0</td>\n",
       "      <td>0</td>\n",
       "      <td>0</td>\n",
       "      <td>0</td>\n",
       "      <td>0</td>\n",
       "      <td>0</td>\n",
       "      <td>0</td>\n",
       "      <td>2</td>\n",
       "      <td>0</td>\n",
       "      <td>0</td>\n",
       "      <td>0</td>\n",
       "      <td>0</td>\n",
       "      <td>0</td>\n",
       "    </tr>\n",
       "    <tr>\n",
       "      <th>other - play pump</th>\n",
       "      <td>0</td>\n",
       "      <td>0</td>\n",
       "      <td>0</td>\n",
       "      <td>0</td>\n",
       "      <td>0</td>\n",
       "      <td>0</td>\n",
       "      <td>0</td>\n",
       "      <td>101</td>\n",
       "      <td>0</td>\n",
       "      <td>0</td>\n",
       "      <td>0</td>\n",
       "      <td>0</td>\n",
       "      <td>0</td>\n",
       "    </tr>\n",
       "    <tr>\n",
       "      <th>other - rope pump</th>\n",
       "      <td>0</td>\n",
       "      <td>0</td>\n",
       "      <td>0</td>\n",
       "      <td>0</td>\n",
       "      <td>0</td>\n",
       "      <td>0</td>\n",
       "      <td>0</td>\n",
       "      <td>0</td>\n",
       "      <td>0</td>\n",
       "      <td>572</td>\n",
       "      <td>0</td>\n",
       "      <td>0</td>\n",
       "      <td>0</td>\n",
       "    </tr>\n",
       "    <tr>\n",
       "      <th>other - swn 81</th>\n",
       "      <td>0</td>\n",
       "      <td>0</td>\n",
       "      <td>0</td>\n",
       "      <td>0</td>\n",
       "      <td>0</td>\n",
       "      <td>0</td>\n",
       "      <td>0</td>\n",
       "      <td>284</td>\n",
       "      <td>0</td>\n",
       "      <td>0</td>\n",
       "      <td>0</td>\n",
       "      <td>0</td>\n",
       "      <td>0</td>\n",
       "    </tr>\n",
       "    <tr>\n",
       "      <th>submersible</th>\n",
       "      <td>0</td>\n",
       "      <td>0</td>\n",
       "      <td>0</td>\n",
       "      <td>0</td>\n",
       "      <td>0</td>\n",
       "      <td>0</td>\n",
       "      <td>0</td>\n",
       "      <td>0</td>\n",
       "      <td>0</td>\n",
       "      <td>0</td>\n",
       "      <td>5982</td>\n",
       "      <td>0</td>\n",
       "      <td>0</td>\n",
       "    </tr>\n",
       "    <tr>\n",
       "      <th>swn 80</th>\n",
       "      <td>0</td>\n",
       "      <td>0</td>\n",
       "      <td>0</td>\n",
       "      <td>0</td>\n",
       "      <td>0</td>\n",
       "      <td>0</td>\n",
       "      <td>0</td>\n",
       "      <td>0</td>\n",
       "      <td>0</td>\n",
       "      <td>0</td>\n",
       "      <td>0</td>\n",
       "      <td>4588</td>\n",
       "      <td>0</td>\n",
       "    </tr>\n",
       "    <tr>\n",
       "      <th>walimi</th>\n",
       "      <td>0</td>\n",
       "      <td>0</td>\n",
       "      <td>0</td>\n",
       "      <td>0</td>\n",
       "      <td>0</td>\n",
       "      <td>0</td>\n",
       "      <td>0</td>\n",
       "      <td>60</td>\n",
       "      <td>0</td>\n",
       "      <td>0</td>\n",
       "      <td>0</td>\n",
       "      <td>0</td>\n",
       "      <td>0</td>\n",
       "    </tr>\n",
       "    <tr>\n",
       "      <th>windmill</th>\n",
       "      <td>0</td>\n",
       "      <td>0</td>\n",
       "      <td>0</td>\n",
       "      <td>0</td>\n",
       "      <td>0</td>\n",
       "      <td>0</td>\n",
       "      <td>0</td>\n",
       "      <td>0</td>\n",
       "      <td>0</td>\n",
       "      <td>0</td>\n",
       "      <td>0</td>\n",
       "      <td>0</td>\n",
       "      <td>152</td>\n",
       "    </tr>\n",
       "  </tbody>\n",
       "</table>\n",
       "</div>"
      ],
      "text/plain": [
       "extraction_type_group      afridev  gravity  ...  swn 80  wind-powered\n",
       "extraction_type                              ...                      \n",
       "afridev                       2208        0  ...       0             0\n",
       "cemo                             0        0  ...       0             0\n",
       "climax                           0        0  ...       0             0\n",
       "gravity                          0    33263  ...       0             0\n",
       "india mark ii                    0        0  ...       0             0\n",
       "india mark iii                   0        0  ...       0             0\n",
       "ksb                              0        0  ...       0             0\n",
       "mono                             0        0  ...       0             0\n",
       "nira/tanira                      0        0  ...       0             0\n",
       "other                            0        0  ...       0             0\n",
       "other - mkulima/shinyanga        0        0  ...       0             0\n",
       "other - play pump                0        0  ...       0             0\n",
       "other - rope pump                0        0  ...       0             0\n",
       "other - swn 81                   0        0  ...       0             0\n",
       "submersible                      0        0  ...       0             0\n",
       "swn 80                           0        0  ...    4588             0\n",
       "walimi                           0        0  ...       0             0\n",
       "windmill                         0        0  ...       0           152\n",
       "\n",
       "[18 rows x 13 columns]"
      ]
     },
     "execution_count": 220,
     "metadata": {
      "tags": []
     },
     "output_type": "execute_result"
    }
   ],
   "source": [
    "pd.crosstab(train_test['extraction_type'],train_test['extraction_type_group'])"
   ]
  },
  {
   "cell_type": "code",
   "execution_count": 221,
   "metadata": {
    "id": "P-aD9pWP6zqV"
   },
   "outputs": [],
   "source": [
    "drop_cols.append(\"extraction_type_group\")"
   ]
  },
  {
   "cell_type": "markdown",
   "metadata": {
    "id": "0XVweXlH8b96"
   },
   "source": [
    "**Payment Columns**"
   ]
  },
  {
   "cell_type": "code",
   "execution_count": 222,
   "metadata": {
    "colab": {
     "base_uri": "https://localhost:8080/"
    },
    "id": "97hrM7vX71yC",
    "outputId": "a1959859-45a8-492e-cb5a-9ab07fe9c5f5"
   },
   "outputs": [
    {
     "name": "stdout",
     "output_type": "stream",
     "text": [
      "never pay                31712\n",
      "pay per bucket           11266\n",
      "pay monthly              10397\n",
      "unknown                  10149\n",
      "pay when scheme fails     4842\n",
      "pay annually              4570\n",
      "other                     1314\n",
      "Name: payment, dtype: int64\n",
      "never pay     31712\n",
      "per bucket    11266\n",
      "monthly       10397\n",
      "unknown       10149\n",
      "on failure     4842\n",
      "annually       4570\n",
      "other          1314\n",
      "Name: payment_type, dtype: int64\n"
     ]
    }
   ],
   "source": [
    "print(train_test['payment'].value_counts())\n",
    "print(train_test['payment_type'].value_counts())"
   ]
  },
  {
   "cell_type": "markdown",
   "metadata": {
    "id": "OQBYAP4B8upq"
   },
   "source": [
    "**We can drop payment since both payment_type and payment are same.**"
   ]
  },
  {
   "cell_type": "markdown",
   "metadata": {
    "id": "n3N8gZPW87pX"
   },
   "source": [
    "***Water Quality and Quantity  Columns***"
   ]
  },
  {
   "cell_type": "code",
   "execution_count": 223,
   "metadata": {
    "colab": {
     "base_uri": "https://localhost:8080/"
    },
    "id": "9_J3R2ZE7YoB",
    "outputId": "832cf882-8231-417b-8f7f-636208b46a73"
   },
   "outputs": [
    {
     "name": "stdout",
     "output_type": "stream",
     "text": [
      "soft                  63505\n",
      "salty                  6082\n",
      "unknown                2345\n",
      "milky                  1005\n",
      "coloured                623\n",
      "salty abandoned         423\n",
      "fluoride                244\n",
      "fluoride abandoned       23\n",
      "Name: water_quality, dtype: int64\n",
      "good        63505\n",
      "salty        6505\n",
      "unknown      2345\n",
      "milky        1005\n",
      "colored       623\n",
      "fluoride      267\n",
      "Name: quality_group, dtype: int64\n"
     ]
    }
   ],
   "source": [
    "print(train_test['water_quality'].value_counts())\n",
    "print(train_test['quality_group'].value_counts())"
   ]
  },
  {
   "cell_type": "code",
   "execution_count": 224,
   "metadata": {
    "id": "0W7xFSYn9NE6"
   },
   "outputs": [],
   "source": [
    "# Since there is no point in splitting fluorides into fluoride,fluoride_abandoned\n",
    "drop_cols.append(\"water_quality\")"
   ]
  },
  {
   "cell_type": "code",
   "execution_count": 225,
   "metadata": {
    "colab": {
     "base_uri": "https://localhost:8080/"
    },
    "id": "hoE9YPY_9yhV",
    "outputId": "35893fdc-261b-4f92-a684-9e3a5eb30e0f"
   },
   "outputs": [
    {
     "name": "stdout",
     "output_type": "stream",
     "text": [
      "enough          41522\n",
      "insufficient    18896\n",
      "dry              7782\n",
      "seasonal         5075\n",
      "unknown           975\n",
      "Name: quantity, dtype: int64\n",
      "enough          41522\n",
      "insufficient    18896\n",
      "dry              7782\n",
      "seasonal         5075\n",
      "unknown           975\n",
      "Name: quantity_group, dtype: int64\n"
     ]
    }
   ],
   "source": [
    "print(train_test['quantity'].value_counts())\n",
    "print(train_test['quantity_group'].value_counts())"
   ]
  },
  {
   "cell_type": "code",
   "execution_count": 226,
   "metadata": {
    "id": "0wea0Z_-_gN2"
   },
   "outputs": [],
   "source": [
    "# we can drop quantity_group\n",
    "drop_cols.append(\"quantity_group\")"
   ]
  },
  {
   "cell_type": "markdown",
   "metadata": {
    "id": "w4Yf8k0m_985"
   },
   "source": [
    "***Source Columns***"
   ]
  },
  {
   "cell_type": "code",
   "execution_count": 227,
   "metadata": {
    "colab": {
     "base_uri": "https://localhost:8080/"
    },
    "id": "XNvLvkpJ_7Cx",
    "outputId": "a06c2721-e865-4b48-bc3e-ab0dfd5981ea"
   },
   "outputs": [
    {
     "name": "stdout",
     "output_type": "stream",
     "text": [
      "spring                  21216\n",
      "shallow well            21140\n",
      "machine dbh             13822\n",
      "river                   11964\n",
      "rainwater harvesting     2863\n",
      "hand dtw                 1108\n",
      "lake                      950\n",
      "dam                       840\n",
      "other                     261\n",
      "unknown                    86\n",
      "Name: source, dtype: int64\n",
      "groundwater    57286\n",
      "surface        16617\n",
      "unknown          347\n",
      "Name: source_class, dtype: int64\n",
      "spring                  21216\n",
      "shallow well            21140\n",
      "borehole                14930\n",
      "river/lake              12914\n",
      "rainwater harvesting     2863\n",
      "dam                       840\n",
      "other                     347\n",
      "Name: source_type, dtype: int64\n"
     ]
    }
   ],
   "source": [
    "print(train_test['source'].value_counts())\n",
    "print(train_test['source_class'].value_counts())\n",
    "print(train_test['source_type'].value_counts())"
   ]
  },
  {
   "cell_type": "code",
   "execution_count": 228,
   "metadata": {
    "id": "Ut01IMBqAVjA"
   },
   "outputs": [],
   "source": [
    "# As source and source_type have similar columns we can drop one of them but as source has more  values we can drop source_type\n",
    "drop_cols.append(\"source_type\")"
   ]
  },
  {
   "cell_type": "markdown",
   "metadata": {
    "id": "PelR2pTaBPYJ"
   },
   "source": [
    "***WaterPoint Columns***"
   ]
  },
  {
   "cell_type": "code",
   "execution_count": 229,
   "metadata": {
    "colab": {
     "base_uri": "https://localhost:8080/"
    },
    "id": "6a_xVaHNBMjj",
    "outputId": "9d242bd2-adff-4ad7-822c-2f3649927724"
   },
   "outputs": [
    {
     "name": "stdout",
     "output_type": "stream",
     "text": [
      "communal standpipe             35628\n",
      "hand pump                      21884\n",
      "other                           8010\n",
      "communal standpipe multiple     7611\n",
      "improved spring                  959\n",
      "cattle trough                    150\n",
      "dam                                8\n",
      "Name: waterpoint_type, dtype: int64\n",
      "communal standpipe    43239\n",
      "hand pump             21884\n",
      "other                  8010\n",
      "improved spring         959\n",
      "cattle trough           150\n",
      "dam                       8\n",
      "Name: waterpoint_type_group, dtype: int64\n"
     ]
    }
   ],
   "source": [
    "print(train_test['waterpoint_type'].value_counts())\n",
    "print(train_test['waterpoint_type_group'].value_counts())"
   ]
  },
  {
   "cell_type": "code",
   "execution_count": 230,
   "metadata": {
    "id": "E--9FUAWBjx6"
   },
   "outputs": [],
   "source": [
    "# both are same  so we are dropping \n",
    "drop_cols.append(\"waterpoint_type_group\")"
   ]
  },
  {
   "cell_type": "markdown",
   "metadata": {
    "id": "aORvf5jBbHMf"
   },
   "source": [
    "**Numerical Columns**"
   ]
  },
  {
   "cell_type": "code",
   "execution_count": 231,
   "metadata": {
    "colab": {
     "base_uri": "https://localhost:8080/"
    },
    "id": "-SjK9EU9CHeA",
    "outputId": "42c968ec-9a21-4a22-ddc2-c270516e2e3c"
   },
   "outputs": [
    {
     "name": "stdout",
     "output_type": "stream",
     "text": [
      "['num_private', 'wpt_name', 'region', 'recorded_by', 'scheme_name', 'extraction_type_group', 'water_quality', 'quantity_group', 'source_type', 'waterpoint_type_group']\n"
     ]
    }
   ],
   "source": [
    "print(drop_cols)"
   ]
  },
  {
   "cell_type": "code",
   "execution_count": 232,
   "metadata": {
    "colab": {
     "base_uri": "https://localhost:8080/"
    },
    "id": "TSFnMLQ4bURP",
    "outputId": "de2cdf21-ee33-4730-d24f-cb7d1e17ce2e"
   },
   "outputs": [
    {
     "data": {
      "text/plain": [
       "count     74250.000000\n",
       "mean        318.685704\n",
       "std        2906.762364\n",
       "min           0.000000\n",
       "25%           0.000000\n",
       "50%           0.000000\n",
       "75%          20.000000\n",
       "max      350000.000000\n",
       "Name: amount_tsh, dtype: float64"
      ]
     },
     "execution_count": 232,
     "metadata": {
      "tags": []
     },
     "output_type": "execute_result"
    }
   ],
   "source": [
    "train_test['amount_tsh'].describe()"
   ]
  },
  {
   "cell_type": "code",
   "execution_count": 246,
   "metadata": {
    "colab": {
     "base_uri": "https://localhost:8080/"
    },
    "id": "wG0hNvKHbCFZ",
    "outputId": "55937a6f-a483-4b88-c363-57ffcdddeec3"
   },
   "outputs": [
    {
     "name": "stdout",
     "output_type": "stream",
     "text": [
      "functional                 19706\n",
      "non functional             18885\n",
      "functional needs repair     3048\n",
      "Name: status_group, dtype: int64\n",
      "70% Values of amount_tsh are zero\n"
     ]
    }
   ],
   "source": [
    "# amount_tsh is total static head(total water available to the water point)\n",
    "# If ammount_tsh is zeros that water_point should be non-functional\n",
    "print(train_test[train_test['amount_tsh']==0]['status_group'].value_counts())\n",
    "print(\"%d%s Values of amount_tsh are zero\"%(len(train_test[train_test['amount_tsh']==0])/len(train_test)*100,'%'))"
   ]
  },
  {
   "cell_type": "markdown",
   "metadata": {
    "id": "rrcaPK-GcNkE"
   },
   "source": [
    "Since there are functional as well as non-functional and needs repair this zero values are wrong so we can either \n",
    "drop amount_tsh since over 70% of values or replace those with median"
   ]
  },
  {
   "cell_type": "code",
   "execution_count": 247,
   "metadata": {
    "colab": {
     "base_uri": "https://localhost:8080/"
    },
    "id": "EOptHV2PdWoP",
    "outputId": "990f403c-98e7-4b77-bb68-5d7ce9bc9123"
   },
   "outputs": [
    {
     "name": "stdout",
     "output_type": "stream",
     "text": [
      "count    74250.000000\n",
      "mean      1298.463650\n",
      "std        952.349375\n",
      "min          0.000000\n",
      "25%          0.000000\n",
      "50%       1986.000000\n",
      "75%       2004.000000\n",
      "max       2013.000000\n",
      "Name: construction_year, dtype: float64\n"
     ]
    }
   ],
   "source": [
    "print(train_test['construction_year'].describe())"
   ]
  },
  {
   "cell_type": "markdown",
   "metadata": {
    "id": "wW6BaVE3dh_H"
   },
   "source": [
    "Same as of amount_tsh construction_year=0 is a wrong value so we can replace it with median"
   ]
  },
  {
   "cell_type": "code",
   "execution_count": 248,
   "metadata": {
    "colab": {
     "base_uri": "https://localhost:8080/"
    },
    "id": "O1cKoM88ddh0",
    "outputId": "1d7d0763-c407-44d2-e646-de373e898c90"
   },
   "outputs": [
    {
     "name": "stdout",
     "output_type": "stream",
     "text": [
      "count    7.425000e+04\n",
      "mean    -5.701771e+00\n",
      "std      2.944969e+00\n",
      "min     -1.164944e+01\n",
      "25%     -8.525675e+00\n",
      "50%     -5.026540e+00\n",
      "75%     -3.325058e+00\n",
      "max     -2.000000e-08\n",
      "Name: latitude, dtype: float64\n",
      "count    74250.000000\n",
      "mean        34.074262\n",
      "std          6.572519\n",
      "min          0.000000\n",
      "25%         33.086819\n",
      "50%         34.907475\n",
      "75%         37.181685\n",
      "max         40.345193\n",
      "Name: longitude, dtype: float64\n"
     ]
    }
   ],
   "source": [
    "print(train_test['latitude'].describe())\n",
    "print(train_test['longitude'].describe())"
   ]
  },
  {
   "cell_type": "markdown",
   "metadata": {
    "id": "d7Kalm3_d9kN"
   },
   "source": [
    "For tanzania we can see on map that longitude is not zero for any region so we can replace it with median."
   ]
  },
  {
   "cell_type": "code",
   "execution_count": 252,
   "metadata": {
    "colab": {
     "base_uri": "https://localhost:8080/"
    },
    "id": "AhfGDTxwd8ld",
    "outputId": "cbbd977b-506c-4f4a-8078-1efb3684906a"
   },
   "outputs": [
    {
     "name": "stdout",
     "output_type": "stream",
     "text": [
      "2269\n"
     ]
    }
   ],
   "source": [
    "print(len(train_test[train_test['longitude']==0]))"
   ]
  },
  {
   "cell_type": "markdown",
   "metadata": {
    "id": "NExHJsbdeimR"
   },
   "source": [
    "We can drop the  columns  in list drop_cols and preprocess the numerical features before the model pipeline."
   ]
  },
  {
   "cell_type": "code",
   "execution_count": null,
   "metadata": {
    "id": "3Tr1Tauld6Aq"
   },
   "outputs": [],
   "source": []
  }
 ],
 "metadata": {
  "colab": {
   "name": "EDA .ipynb",
   "provenance": []
  },
  "kernelspec": {
   "display_name": "Python 3",
   "language": "python",
   "name": "python3"
  },
  "language_info": {
   "codemirror_mode": {
    "name": "ipython",
    "version": 3
   },
   "file_extension": ".py",
   "mimetype": "text/x-python",
   "name": "python",
   "nbconvert_exporter": "python",
   "pygments_lexer": "ipython3",
   "version": "3.8.5"
  }
 },
 "nbformat": 4,
 "nbformat_minor": 1
}
